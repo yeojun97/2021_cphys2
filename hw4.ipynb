{
 "cells": [
  {
   "cell_type": "code",
   "execution_count": 2,
   "id": "f2ce2ba7",
   "metadata": {},
   "outputs": [],
   "source": [
    "import numpy as np"
   ]
  },
  {
   "cell_type": "code",
   "execution_count": 3,
   "id": "96e3b322",
   "metadata": {},
   "outputs": [],
   "source": [
    "def f(x): \n",
    "    return 1/(1+np.exp(-x))"
   ]
  },
  {
   "cell_type": "code",
   "execution_count": 4,
   "id": "c9282cbb",
   "metadata": {},
   "outputs": [],
   "source": [
    "X = np.array([[0,0,1],[1,0,1],[0,1,1],[1,1,1]])\n",
    "y = np.array([[0],[1],[1],[0]])"
   ]
  },
  {
   "cell_type": "code",
   "execution_count": 5,
   "id": "9affdcb0",
   "metadata": {},
   "outputs": [],
   "source": [
    "w = np.array([[0.33,0.44,0.55,0.66],[0.8,0.6,0.4,0.7],[1,0.8,0.55,0.88]])\n",
    "#w[i] = w_1i, w_2i, w_3i \n",
    "omega = np.array([[1],[0.6],[0.9],[0.1]])\n",
    "#omega[i] = ohm_1, ohm_2, ohm_3, ohm_4 "
   ]
  },
  {
   "cell_type": "code",
   "execution_count": 6,
   "id": "a35d3707",
   "metadata": {},
   "outputs": [
    {
     "name": "stdout",
     "output_type": "stream",
     "text": [
      "[0.85649118]\n",
      "[0.8822342]\n",
      "[0.88809052]\n",
      "[0.9035886]\n"
     ]
    }
   ],
   "source": [
    "for i in range(4):\n",
    "    neth=np.dot(X[i],w)\n",
    "    h = f(neth)\n",
    "    neto=np.dot(h,omega)\n",
    "    o = f(neto)\n",
    "    print(o)"
   ]
  },
  {
   "cell_type": "code",
   "execution_count": 7,
   "id": "6828f654",
   "metadata": {},
   "outputs": [
    {
     "data": {
      "text/plain": [
       "array([2.43713896e-05])"
      ]
     },
     "execution_count": 7,
     "metadata": {},
     "output_type": "execute_result"
    }
   ],
   "source": [
    "dh=[0,0,0,0]\n",
    "\n",
    "eta=10\n",
    "\n",
    "for n in range(10000):\n",
    "    E=0 # error_sum\n",
    "    for i in range(4):\n",
    "        neth=np.dot(X[i],w)\n",
    "        h = f(neth)\n",
    "        neto=np.dot(h,omega)\n",
    "        o = f(neto)\n",
    "        \n",
    "        E = E + (1/2)*(o-y[i])**2\n",
    "        do=(o-y[i])*f(neto)*(1-f(neto))    \n",
    "        for j in range(4):\n",
    "            dh[j]=do*omega[j]*f(neth[j])*(1-f(neth[j]))\n",
    "            omega[j]=omega[j]-eta*do*h[j]\n",
    "            for k in range(3):\n",
    "                w[k][j]=w[k][j]-eta*dh[j]*X[i][k]\n",
    "E"
   ]
  },
  {
   "cell_type": "code",
   "execution_count": 8,
   "id": "51637afc",
   "metadata": {},
   "outputs": [
    {
     "name": "stdout",
     "output_type": "stream",
     "text": [
      "[0.0013243]\n",
      "[0.99688836]\n",
      "[0.99654792]\n",
      "[0.00503732]\n"
     ]
    }
   ],
   "source": [
    "for i in range(4):\n",
    "    neth=np.dot(X[i],w)\n",
    "    h = f(neth)\n",
    "    neto=np.dot(h,omega)\n",
    "    o = f(neto)\n",
    "    print(o)"
   ]
  },
  {
   "cell_type": "code",
   "execution_count": null,
   "id": "cea15d40",
   "metadata": {},
   "outputs": [],
   "source": []
  },
  {
   "cell_type": "code",
   "execution_count": null,
   "id": "a704fdf0",
   "metadata": {},
   "outputs": [],
   "source": []
  }
 ],
 "metadata": {
  "kernelspec": {
   "display_name": "Python 3",
   "language": "python",
   "name": "python3"
  },
  "language_info": {
   "codemirror_mode": {
    "name": "ipython",
    "version": 3
   },
   "file_extension": ".py",
   "mimetype": "text/x-python",
   "name": "python",
   "nbconvert_exporter": "python",
   "pygments_lexer": "ipython3",
   "version": "3.8.8"
  }
 },
 "nbformat": 4,
 "nbformat_minor": 5
}
