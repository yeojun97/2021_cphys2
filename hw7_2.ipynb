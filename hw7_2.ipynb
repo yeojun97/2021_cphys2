{
 "cells": [
  {
   "cell_type": "code",
   "execution_count": 446,
   "metadata": {
    "_cell_guid": "b1076dfc-b9ad-4769-8c92-a6c4dae69d19",
    "_uuid": "8f2839f25d086af736a60e9eeb907d3b93b6e0e5",
    "execution": {
     "iopub.execute_input": "2021-12-21T01:54:09.897800Z",
     "iopub.status.busy": "2021-12-21T01:54:09.897515Z",
     "iopub.status.idle": "2021-12-21T01:54:09.914006Z",
     "shell.execute_reply": "2021-12-21T01:54:09.913059Z",
     "shell.execute_reply.started": "2021-12-21T01:54:09.897770Z"
    }
   },
   "outputs": [],
   "source": [
    "# This Python 3 environment comes with many helpful analytics libraries installed\n",
    "# It is defined by the kaggle/python Docker image: https://github.com/kaggle/docker-python\n",
    "# For example, here's several helpful packages to load\n",
    "\n",
    "import numpy as np # linear algebra\n",
    "import pandas as pd # data processing, CSV file I/O (e.g. pd.read_csv)\n",
    "\n",
    "# Input data files are available in the read-only \"../input/\" directory\n",
    "# For example, running this (by clicking run or pressing Shift+Enter) will list all files under the input directory\n",
    "\n",
    "import os\n",
    "for dirname, _, filenames in os.walk('/kaggle/input'):\n",
    "    for filename in filenames:\n",
    "        print(os.path.join(dirname, filename))\n",
    "\n",
    "import matplotlib.pyplot as plt\n",
    "import seaborn as sns\n",
    "sns.set"
   ]
  },
  {
   "cell_type": "code",
   "execution_count": 447,
   "metadata": {
    "execution": {
     "iopub.execute_input": "2021-12-21T01:54:09.917601Z",
     "iopub.status.busy": "2021-12-21T01:54:09.916197Z",
     "iopub.status.idle": "2021-12-21T01:54:09.935335Z",
     "shell.execute_reply": "2021-12-21T01:54:09.934114Z",
     "shell.execute_reply.started": "2021-12-21T01:54:09.917544Z"
    }
   },
   "outputs": [],
   "source": [
    "train = pd.read_csv('/kaggle/input/titanic/train.csv')\n",
    "test = pd.read_csv('/kaggle/input/titanic/test.csv')\n"
   ]
  },
  {
   "cell_type": "code",
   "execution_count": 448,
   "metadata": {
    "execution": {
     "iopub.execute_input": "2021-12-21T01:54:09.937416Z",
     "iopub.status.busy": "2021-12-21T01:54:09.936694Z",
     "iopub.status.idle": "2021-12-21T01:54:09.947213Z",
     "shell.execute_reply": "2021-12-21T01:54:09.946283Z",
     "shell.execute_reply.started": "2021-12-21T01:54:09.937366Z"
    }
   },
   "outputs": [],
   "source": [
    "train.isnull().sum()"
   ]
  },
  {
   "cell_type": "code",
   "execution_count": 449,
   "metadata": {
    "execution": {
     "iopub.execute_input": "2021-12-21T01:54:09.950049Z",
     "iopub.status.busy": "2021-12-21T01:54:09.948909Z",
     "iopub.status.idle": "2021-12-21T01:54:09.965276Z",
     "shell.execute_reply": "2021-12-21T01:54:09.964127Z",
     "shell.execute_reply.started": "2021-12-21T01:54:09.949962Z"
    }
   },
   "outputs": [],
   "source": [
    "test.isnull().sum()"
   ]
  },
  {
   "cell_type": "code",
   "execution_count": 450,
   "metadata": {
    "execution": {
     "iopub.execute_input": "2021-12-21T01:54:09.969173Z",
     "iopub.status.busy": "2021-12-21T01:54:09.968184Z",
     "iopub.status.idle": "2021-12-21T01:54:09.981353Z",
     "shell.execute_reply": "2021-12-21T01:54:09.980062Z",
     "shell.execute_reply.started": "2021-12-21T01:54:09.969115Z"
    }
   },
   "outputs": [],
   "source": [
    "def bar_chart(feature):\n",
    "    survived = train[train['Survived']==1][feature].value_counts()\n",
    "    dead = train[train['Survived']==0][feature].value_counts()\n",
    "    df = pd.DataFrame([survived,dead])\n",
    "    df.index = ['Survived','Dead']\n",
    "    df.plot(kind='bar',stacked=True, figsize=(10,5))"
   ]
  },
  {
   "cell_type": "code",
   "execution_count": 451,
   "metadata": {
    "execution": {
     "iopub.execute_input": "2021-12-21T01:54:09.983748Z",
     "iopub.status.busy": "2021-12-21T01:54:09.982943Z",
     "iopub.status.idle": "2021-12-21T01:54:10.210255Z",
     "shell.execute_reply": "2021-12-21T01:54:10.209592Z",
     "shell.execute_reply.started": "2021-12-21T01:54:09.983710Z"
    }
   },
   "outputs": [],
   "source": [
    "bar_chart('Sex')"
   ]
  },
  {
   "cell_type": "code",
   "execution_count": 452,
   "metadata": {
    "execution": {
     "iopub.execute_input": "2021-12-21T01:54:10.211626Z",
     "iopub.status.busy": "2021-12-21T01:54:10.211310Z",
     "iopub.status.idle": "2021-12-21T01:54:10.226609Z",
     "shell.execute_reply": "2021-12-21T01:54:10.225722Z",
     "shell.execute_reply.started": "2021-12-21T01:54:10.211599Z"
    }
   },
   "outputs": [],
   "source": [
    "train[[\"Sex\", \"Survived\"]].groupby(['Sex'], as_index=False).mean().sort_values(by='Survived', ascending=False)"
   ]
  },
  {
   "cell_type": "code",
   "execution_count": 453,
   "metadata": {
    "execution": {
     "iopub.execute_input": "2021-12-21T01:54:10.227973Z",
     "iopub.status.busy": "2021-12-21T01:54:10.227747Z",
     "iopub.status.idle": "2021-12-21T01:54:10.454902Z",
     "shell.execute_reply": "2021-12-21T01:54:10.454068Z",
     "shell.execute_reply.started": "2021-12-21T01:54:10.227945Z"
    }
   },
   "outputs": [],
   "source": [
    "bar_chart('Pclass')"
   ]
  },
  {
   "cell_type": "code",
   "execution_count": 454,
   "metadata": {
    "execution": {
     "iopub.execute_input": "2021-12-21T01:54:10.456312Z",
     "iopub.status.busy": "2021-12-21T01:54:10.456090Z",
     "iopub.status.idle": "2021-12-21T01:54:10.470132Z",
     "shell.execute_reply": "2021-12-21T01:54:10.469308Z",
     "shell.execute_reply.started": "2021-12-21T01:54:10.456283Z"
    }
   },
   "outputs": [],
   "source": [
    "train[['Pclass', 'Survived']].groupby(['Pclass'], as_index=False).mean().sort_values(by='Survived', ascending=False)"
   ]
  },
  {
   "cell_type": "code",
   "execution_count": 455,
   "metadata": {
    "execution": {
     "iopub.execute_input": "2021-12-21T01:54:10.471524Z",
     "iopub.status.busy": "2021-12-21T01:54:10.471314Z",
     "iopub.status.idle": "2021-12-21T01:54:10.747668Z",
     "shell.execute_reply": "2021-12-21T01:54:10.746770Z",
     "shell.execute_reply.started": "2021-12-21T01:54:10.471499Z"
    }
   },
   "outputs": [],
   "source": [
    "bar_chart('SibSp')"
   ]
  },
  {
   "cell_type": "code",
   "execution_count": 456,
   "metadata": {
    "execution": {
     "iopub.execute_input": "2021-12-21T01:54:10.749389Z",
     "iopub.status.busy": "2021-12-21T01:54:10.749092Z",
     "iopub.status.idle": "2021-12-21T01:54:10.767036Z",
     "shell.execute_reply": "2021-12-21T01:54:10.766238Z",
     "shell.execute_reply.started": "2021-12-21T01:54:10.749348Z"
    }
   },
   "outputs": [],
   "source": [
    "train[[\"SibSp\", \"Survived\"]].groupby(['SibSp'], as_index=False).mean().sort_values(by='Survived', ascending=False)"
   ]
  },
  {
   "cell_type": "code",
   "execution_count": 457,
   "metadata": {
    "execution": {
     "iopub.execute_input": "2021-12-21T01:54:10.771420Z",
     "iopub.status.busy": "2021-12-21T01:54:10.770671Z",
     "iopub.status.idle": "2021-12-21T01:54:11.052990Z",
     "shell.execute_reply": "2021-12-21T01:54:11.052087Z",
     "shell.execute_reply.started": "2021-12-21T01:54:10.771373Z"
    }
   },
   "outputs": [],
   "source": [
    "bar_chart('Parch')"
   ]
  },
  {
   "cell_type": "code",
   "execution_count": 458,
   "metadata": {
    "execution": {
     "iopub.execute_input": "2021-12-21T01:54:11.054817Z",
     "iopub.status.busy": "2021-12-21T01:54:11.054433Z",
     "iopub.status.idle": "2021-12-21T01:54:11.071655Z",
     "shell.execute_reply": "2021-12-21T01:54:11.070771Z",
     "shell.execute_reply.started": "2021-12-21T01:54:11.054765Z"
    }
   },
   "outputs": [],
   "source": [
    "train[[\"Parch\", \"Survived\"]].groupby(['Parch'], as_index=False).mean().sort_values(by='Survived', ascending=False)"
   ]
  },
  {
   "cell_type": "code",
   "execution_count": 459,
   "metadata": {
    "execution": {
     "iopub.execute_input": "2021-12-21T01:54:11.073234Z",
     "iopub.status.busy": "2021-12-21T01:54:11.072972Z",
     "iopub.status.idle": "2021-12-21T01:54:11.314337Z",
     "shell.execute_reply": "2021-12-21T01:54:11.313530Z",
     "shell.execute_reply.started": "2021-12-21T01:54:11.073204Z"
    }
   },
   "outputs": [],
   "source": [
    "bar_chart('Embarked')"
   ]
  },
  {
   "cell_type": "code",
   "execution_count": 460,
   "metadata": {
    "execution": {
     "iopub.execute_input": "2021-12-21T01:54:11.316276Z",
     "iopub.status.busy": "2021-12-21T01:54:11.315817Z",
     "iopub.status.idle": "2021-12-21T01:54:11.333296Z",
     "shell.execute_reply": "2021-12-21T01:54:11.332391Z",
     "shell.execute_reply.started": "2021-12-21T01:54:11.316231Z"
    }
   },
   "outputs": [],
   "source": [
    "train[[\"Embarked\", \"Survived\"]].groupby(['Embarked'], as_index=False).mean().sort_values(by='Survived', ascending=False)"
   ]
  },
  {
   "cell_type": "code",
   "execution_count": 461,
   "metadata": {
    "execution": {
     "iopub.execute_input": "2021-12-21T01:54:11.335445Z",
     "iopub.status.busy": "2021-12-21T01:54:11.335120Z",
     "iopub.status.idle": "2021-12-21T01:54:11.343866Z",
     "shell.execute_reply": "2021-12-21T01:54:11.343106Z",
     "shell.execute_reply.started": "2021-12-21T01:54:11.335384Z"
    }
   },
   "outputs": [],
   "source": [
    "train_and_test = [train, test]"
   ]
  },
  {
   "cell_type": "code",
   "execution_count": 462,
   "metadata": {
    "execution": {
     "iopub.execute_input": "2021-12-21T01:54:11.345738Z",
     "iopub.status.busy": "2021-12-21T01:54:11.344880Z",
     "iopub.status.idle": "2021-12-21T01:54:11.361367Z",
     "shell.execute_reply": "2021-12-21T01:54:11.360332Z",
     "shell.execute_reply.started": "2021-12-21T01:54:11.345703Z"
    }
   },
   "outputs": [],
   "source": [
    "for dataset in train_and_test:\n",
    "    dataset['Marryed'] = dataset['Name'].str.extract(' ([A-Za-z]+)\\.', expand=False)"
   ]
  },
  {
   "cell_type": "code",
   "execution_count": 463,
   "metadata": {
    "execution": {
     "iopub.execute_input": "2021-12-21T01:54:11.362898Z",
     "iopub.status.busy": "2021-12-21T01:54:11.362657Z",
     "iopub.status.idle": "2021-12-21T01:54:11.378410Z",
     "shell.execute_reply": "2021-12-21T01:54:11.377656Z",
     "shell.execute_reply.started": "2021-12-21T01:54:11.362870Z"
    }
   },
   "outputs": [],
   "source": [
    "train['Marryed'].value_counts()"
   ]
  },
  {
   "cell_type": "code",
   "execution_count": 464,
   "metadata": {
    "execution": {
     "iopub.execute_input": "2021-12-21T01:54:11.380280Z",
     "iopub.status.busy": "2021-12-21T01:54:11.379651Z",
     "iopub.status.idle": "2021-12-21T01:54:11.394764Z",
     "shell.execute_reply": "2021-12-21T01:54:11.394106Z",
     "shell.execute_reply.started": "2021-12-21T01:54:11.380246Z"
    }
   },
   "outputs": [],
   "source": [
    "test['Marryed'].value_counts()"
   ]
  },
  {
   "cell_type": "code",
   "execution_count": 465,
   "metadata": {
    "execution": {
     "iopub.execute_input": "2021-12-21T01:54:11.396571Z",
     "iopub.status.busy": "2021-12-21T01:54:11.395989Z",
     "iopub.status.idle": "2021-12-21T01:54:11.405827Z",
     "shell.execute_reply": "2021-12-21T01:54:11.405104Z",
     "shell.execute_reply.started": "2021-12-21T01:54:11.396530Z"
    }
   },
   "outputs": [],
   "source": [
    "Marryed_mapping = {\"Mr\": 0, \"Miss\": 1, \"Mrs\": 2, \"Master\": 4, \"Dr\": 3, \"Rev\": 3, \n",
    "                  \"Col\":3, \"Major\": 3, \"Mlle\": 3, \"Countess\": 3, \"Ms\": 3, \"Lady\": 3,\n",
    "                  \"Jonkheer\": 3, \"Don\": 3, \"Dona\": 3, \"Mme\": 3, \"Capt\": 3, \"Sir\": 3 }\n",
    "for dataset in train_and_test:\n",
    "    dataset['Marryed'] = dataset['Marryed'].map(Marryed_mapping)"
   ]
  },
  {
   "cell_type": "code",
   "execution_count": 466,
   "metadata": {
    "execution": {
     "iopub.execute_input": "2021-12-21T01:54:11.407418Z",
     "iopub.status.busy": "2021-12-21T01:54:11.406961Z",
     "iopub.status.idle": "2021-12-21T01:54:11.418823Z",
     "shell.execute_reply": "2021-12-21T01:54:11.418104Z",
     "shell.execute_reply.started": "2021-12-21T01:54:11.407387Z"
    }
   },
   "outputs": [],
   "source": [
    "train.drop('Name', axis=1, inplace=True)\n",
    "test.drop('Name', axis=1, inplace=True)"
   ]
  },
  {
   "cell_type": "code",
   "execution_count": 467,
   "metadata": {
    "execution": {
     "iopub.execute_input": "2021-12-21T01:54:11.420532Z",
     "iopub.status.busy": "2021-12-21T01:54:11.420033Z",
     "iopub.status.idle": "2021-12-21T01:54:11.440461Z",
     "shell.execute_reply": "2021-12-21T01:54:11.439370Z",
     "shell.execute_reply.started": "2021-12-21T01:54:11.420492Z"
    }
   },
   "outputs": [],
   "source": [
    "train.head()"
   ]
  },
  {
   "cell_type": "code",
   "execution_count": 468,
   "metadata": {
    "execution": {
     "iopub.execute_input": "2021-12-21T01:54:11.442326Z",
     "iopub.status.busy": "2021-12-21T01:54:11.441700Z",
     "iopub.status.idle": "2021-12-21T01:54:11.459467Z",
     "shell.execute_reply": "2021-12-21T01:54:11.458867Z",
     "shell.execute_reply.started": "2021-12-21T01:54:11.442278Z"
    }
   },
   "outputs": [],
   "source": [
    "test.head()"
   ]
  },
  {
   "cell_type": "code",
   "execution_count": 469,
   "metadata": {
    "execution": {
     "iopub.execute_input": "2021-12-21T01:54:11.460898Z",
     "iopub.status.busy": "2021-12-21T01:54:11.460402Z",
     "iopub.status.idle": "2021-12-21T01:54:11.964828Z",
     "shell.execute_reply": "2021-12-21T01:54:11.964047Z",
     "shell.execute_reply.started": "2021-12-21T01:54:11.460865Z"
    }
   },
   "outputs": [],
   "source": [
    "g = sns.FacetGrid(train, col='Survived')\n",
    "g.map(plt.hist, 'Age', bins=20)"
   ]
  },
  {
   "cell_type": "code",
   "execution_count": 470,
   "metadata": {
    "execution": {
     "iopub.execute_input": "2021-12-21T01:54:11.966194Z",
     "iopub.status.busy": "2021-12-21T01:54:11.965933Z",
     "iopub.status.idle": "2021-12-21T01:54:13.065730Z",
     "shell.execute_reply": "2021-12-21T01:54:13.064817Z",
     "shell.execute_reply.started": "2021-12-21T01:54:11.966164Z"
    }
   },
   "outputs": [],
   "source": [
    "grid = sns.FacetGrid(train, col='Survived', row='Sex', hue=\"Sex\", height=2.2, aspect=1.6)\n",
    "grid.map(plt.hist, 'Age', alpha=.5, bins=20)\n",
    "grid.add_legend();"
   ]
  },
  {
   "cell_type": "code",
   "execution_count": 471,
   "metadata": {
    "execution": {
     "iopub.execute_input": "2021-12-21T01:54:13.067211Z",
     "iopub.status.busy": "2021-12-21T01:54:13.066955Z",
     "iopub.status.idle": "2021-12-21T01:54:13.075196Z",
     "shell.execute_reply": "2021-12-21T01:54:13.074111Z",
     "shell.execute_reply.started": "2021-12-21T01:54:13.067180Z"
    }
   },
   "outputs": [],
   "source": [
    "sex_mapping = {\"male\": 0, \"female\": 1}\n",
    "for dataset in train_and_test:\n",
    "    dataset['Sex'] = dataset['Sex'].map(sex_mapping)"
   ]
  },
  {
   "cell_type": "code",
   "execution_count": 472,
   "metadata": {
    "execution": {
     "iopub.execute_input": "2021-12-21T01:54:13.076901Z",
     "iopub.status.busy": "2021-12-21T01:54:13.076637Z",
     "iopub.status.idle": "2021-12-21T01:54:13.090904Z",
     "shell.execute_reply": "2021-12-21T01:54:13.090025Z",
     "shell.execute_reply.started": "2021-12-21T01:54:13.076863Z"
    }
   },
   "outputs": [],
   "source": [
    "train[\"Age\"].fillna(train.groupby(\"Sex\")[\"Age\"].transform(\"median\"), inplace=True)\n",
    "test[\"Age\"].fillna(test.groupby(\"Sex\")[\"Age\"].transform(\"median\"), inplace=True)"
   ]
  },
  {
   "cell_type": "code",
   "execution_count": 473,
   "metadata": {
    "execution": {
     "iopub.execute_input": "2021-12-21T01:54:13.092468Z",
     "iopub.status.busy": "2021-12-21T01:54:13.092256Z",
     "iopub.status.idle": "2021-12-21T01:54:13.486022Z",
     "shell.execute_reply": "2021-12-21T01:54:13.485241Z",
     "shell.execute_reply.started": "2021-12-21T01:54:13.092441Z"
    }
   },
   "outputs": [],
   "source": [
    "Grid_1 = sns.FacetGrid(train, hue=\"Survived\",aspect=4)\n",
    "Grid_1.map(sns.kdeplot,'Age',shade= True)\n",
    "Grid_1.set(xlim=(0, train['Age'].max()))\n",
    "Grid_1.add_legend()\n",
    "\n",
    "plt.show()"
   ]
  },
  {
   "cell_type": "code",
   "execution_count": 474,
   "metadata": {
    "execution": {
     "iopub.execute_input": "2021-12-21T01:54:13.487726Z",
     "iopub.status.busy": "2021-12-21T01:54:13.487157Z",
     "iopub.status.idle": "2021-12-21T01:54:13.911621Z",
     "shell.execute_reply": "2021-12-21T01:54:13.910766Z",
     "shell.execute_reply.started": "2021-12-21T01:54:13.487692Z"
    }
   },
   "outputs": [],
   "source": [
    "Grid_1 = sns.FacetGrid(train, hue=\"Survived\",aspect=4)\n",
    "Grid_1.map(sns.kdeplot,'Age',shade= True)\n",
    "Grid_1.set(xlim=(0, train['Age'].max()))\n",
    "Grid_1.add_legend()\n",
    "plt.xlim(0,20)"
   ]
  },
  {
   "cell_type": "code",
   "execution_count": 475,
   "metadata": {
    "execution": {
     "iopub.execute_input": "2021-12-21T01:54:13.913432Z",
     "iopub.status.busy": "2021-12-21T01:54:13.913056Z",
     "iopub.status.idle": "2021-12-21T01:54:14.327267Z",
     "shell.execute_reply": "2021-12-21T01:54:14.326433Z",
     "shell.execute_reply.started": "2021-12-21T01:54:13.913387Z"
    }
   },
   "outputs": [],
   "source": [
    "Grid_1 = sns.FacetGrid(train, hue=\"Survived\",aspect=4)\n",
    "Grid_1.map(sns.kdeplot,'Age',shade= True)\n",
    "Grid_1.set(xlim=(0, train['Age'].max()))\n",
    "Grid_1.add_legend()\n",
    "plt.xlim(20,45)"
   ]
  },
  {
   "cell_type": "code",
   "execution_count": 476,
   "metadata": {
    "execution": {
     "iopub.execute_input": "2021-12-21T01:54:14.331857Z",
     "iopub.status.busy": "2021-12-21T01:54:14.331636Z",
     "iopub.status.idle": "2021-12-21T01:54:14.755467Z",
     "shell.execute_reply": "2021-12-21T01:54:14.754778Z",
     "shell.execute_reply.started": "2021-12-21T01:54:14.331830Z"
    }
   },
   "outputs": [],
   "source": [
    "Grid_1 = sns.FacetGrid(train, hue=\"Survived\",aspect=4)\n",
    "Grid_1.map(sns.kdeplot,'Age',shade= True)\n",
    "Grid_1.set(xlim=(0, train['Age'].max()))\n",
    "Grid_1.add_legend()\n",
    "plt.xlim(45,60)"
   ]
  },
  {
   "cell_type": "code",
   "execution_count": 477,
   "metadata": {
    "execution": {
     "iopub.execute_input": "2021-12-21T01:54:14.756859Z",
     "iopub.status.busy": "2021-12-21T01:54:14.756543Z",
     "iopub.status.idle": "2021-12-21T01:54:15.540675Z",
     "shell.execute_reply": "2021-12-21T01:54:15.539815Z",
     "shell.execute_reply.started": "2021-12-21T01:54:14.756830Z"
    }
   },
   "outputs": [],
   "source": [
    "Grid_1 = sns.FacetGrid(train, hue=\"Survived\",aspect=4)\n",
    "Grid_1.map(sns.kdeplot,'Age',shade= True)\n",
    "Grid_1.set(xlim=(0, train['Age'].max()))\n",
    "Grid_1.add_legend()\n",
    "plt.xlim(60,80)"
   ]
  },
  {
   "cell_type": "code",
   "execution_count": 478,
   "metadata": {
    "execution": {
     "iopub.execute_input": "2021-12-21T01:54:15.542396Z",
     "iopub.status.busy": "2021-12-21T01:54:15.542188Z",
     "iopub.status.idle": "2021-12-21T01:54:15.556036Z",
     "shell.execute_reply": "2021-12-21T01:54:15.555432Z",
     "shell.execute_reply.started": "2021-12-21T01:54:15.542370Z"
    }
   },
   "outputs": [],
   "source": [
    "for dataset in train_and_test:    \n",
    "    dataset.loc[ dataset['Age'] <= 16, 'Age'] = 0\n",
    "    dataset.loc[(dataset['Age'] > 16) & (dataset['Age'] <= 34), 'Age'] = 1\n",
    "    dataset.loc[(dataset['Age'] > 34) & (dataset['Age'] <= 47), 'Age'] = 2\n",
    "    dataset.loc[(dataset['Age'] > 47) & (dataset['Age'] <= 59), 'Age'] = 3\n",
    "    dataset.loc[ dataset['Age'] > 59, 'Age'] = 4"
   ]
  },
  {
   "cell_type": "code",
   "execution_count": 479,
   "metadata": {
    "execution": {
     "iopub.execute_input": "2021-12-21T01:54:15.557704Z",
     "iopub.status.busy": "2021-12-21T01:54:15.557083Z",
     "iopub.status.idle": "2021-12-21T01:54:15.812002Z",
     "shell.execute_reply": "2021-12-21T01:54:15.811050Z",
     "shell.execute_reply.started": "2021-12-21T01:54:15.557667Z"
    }
   },
   "outputs": [],
   "source": [
    "Pclass1 = train[train['Pclass']==1]['Embarked'].value_counts()\n",
    "Pclass2 = train[train['Pclass']==2]['Embarked'].value_counts()\n",
    "Pclass3 = train[train['Pclass']==3]['Embarked'].value_counts()\n",
    "df = pd.DataFrame([Pclass1, Pclass2, Pclass3])\n",
    "df.index = ['1stclass','2ndclass','3rdclass']\n",
    "df.plot(kind='bar',stacked=True, figsize=(10,5))"
   ]
  },
  {
   "cell_type": "code",
   "execution_count": 480,
   "metadata": {
    "execution": {
     "iopub.execute_input": "2021-12-21T01:54:15.813435Z",
     "iopub.status.busy": "2021-12-21T01:54:15.813145Z",
     "iopub.status.idle": "2021-12-21T01:54:15.820424Z",
     "shell.execute_reply": "2021-12-21T01:54:15.819371Z",
     "shell.execute_reply.started": "2021-12-21T01:54:15.813398Z"
    }
   },
   "outputs": [],
   "source": [
    "for dataset in train_and_test:\n",
    "    dataset['Embarked'] = dataset['Embarked'].fillna('S')"
   ]
  },
  {
   "cell_type": "code",
   "execution_count": 481,
   "metadata": {
    "execution": {
     "iopub.execute_input": "2021-12-21T01:54:15.822122Z",
     "iopub.status.busy": "2021-12-21T01:54:15.821860Z",
     "iopub.status.idle": "2021-12-21T01:54:15.834552Z",
     "shell.execute_reply": "2021-12-21T01:54:15.833794Z",
     "shell.execute_reply.started": "2021-12-21T01:54:15.822087Z"
    }
   },
   "outputs": [],
   "source": [
    "embarked_mapping = {\"S\": 0, \"C\": 1, \"Q\": 2}\n",
    "for dataset in train_and_test:\n",
    "    dataset['Embarked'] = dataset['Embarked'].map(embarked_mapping)"
   ]
  },
  {
   "cell_type": "code",
   "execution_count": 482,
   "metadata": {
    "execution": {
     "iopub.execute_input": "2021-12-21T01:54:15.835828Z",
     "iopub.status.busy": "2021-12-21T01:54:15.835628Z",
     "iopub.status.idle": "2021-12-21T01:54:15.852864Z",
     "shell.execute_reply": "2021-12-21T01:54:15.852073Z",
     "shell.execute_reply.started": "2021-12-21T01:54:15.835802Z"
    }
   },
   "outputs": [],
   "source": [
    "print (train[['Pclass', 'Fare']].groupby(['Pclass'], as_index=False).mean())\n",
    "print(\"\")\n",
    "print(test[test[\"Fare\"].isnull()][\"Pclass\"])"
   ]
  },
  {
   "cell_type": "code",
   "execution_count": 483,
   "metadata": {
    "execution": {
     "iopub.execute_input": "2021-12-21T01:54:15.854820Z",
     "iopub.status.busy": "2021-12-21T01:54:15.854329Z",
     "iopub.status.idle": "2021-12-21T01:54:16.244874Z",
     "shell.execute_reply": "2021-12-21T01:54:16.244244Z",
     "shell.execute_reply.started": "2021-12-21T01:54:15.854769Z"
    }
   },
   "outputs": [],
   "source": [
    "Grid_2 = sns.FacetGrid(train, hue=\"Survived\",aspect=4)\n",
    "Grid_2.map(sns.kdeplot,'Fare',shade= True)\n",
    "Grid_2.set(xlim=(0, train['Fare'].max()))\n",
    "Grid_2.add_legend()\n",
    "\n",
    "plt.show()"
   ]
  },
  {
   "cell_type": "code",
   "execution_count": 484,
   "metadata": {
    "execution": {
     "iopub.execute_input": "2021-12-21T01:54:16.246776Z",
     "iopub.status.busy": "2021-12-21T01:54:16.246336Z",
     "iopub.status.idle": "2021-12-21T01:54:16.253874Z",
     "shell.execute_reply": "2021-12-21T01:54:16.253277Z",
     "shell.execute_reply.started": "2021-12-21T01:54:16.246743Z"
    }
   },
   "outputs": [],
   "source": [
    "train[\"Fare\"].fillna(train.groupby(\"Pclass\")[\"Fare\"].transform(\"median\"), inplace=True)\n",
    "test[\"Fare\"].fillna(test.groupby(\"Pclass\")[\"Fare\"].transform(\"median\"), inplace=True)"
   ]
  },
  {
   "cell_type": "code",
   "execution_count": 485,
   "metadata": {
    "execution": {
     "iopub.execute_input": "2021-12-21T01:54:16.256838Z",
     "iopub.status.busy": "2021-12-21T01:54:16.255291Z",
     "iopub.status.idle": "2021-12-21T01:54:16.692400Z",
     "shell.execute_reply": "2021-12-21T01:54:16.691494Z",
     "shell.execute_reply.started": "2021-12-21T01:54:16.256799Z"
    }
   },
   "outputs": [],
   "source": [
    "Grid_2 = sns.FacetGrid(train, hue=\"Survived\",aspect=4)\n",
    "Grid_2.map(sns.kdeplot,'Fare',shade= True)\n",
    "Grid_2.set(xlim=(0, train['Fare'].max()))\n",
    "Grid_2.add_legend()\n",
    "plt.xlim(0,35)"
   ]
  },
  {
   "cell_type": "code",
   "execution_count": 486,
   "metadata": {
    "execution": {
     "iopub.execute_input": "2021-12-21T01:54:16.694673Z",
     "iopub.status.busy": "2021-12-21T01:54:16.693984Z",
     "iopub.status.idle": "2021-12-21T01:54:16.707766Z",
     "shell.execute_reply": "2021-12-21T01:54:16.707063Z",
     "shell.execute_reply.started": "2021-12-21T01:54:16.694626Z"
    }
   },
   "outputs": [],
   "source": [
    "for dataset in train_and_test:    \n",
    "    dataset.loc[ dataset['Fare'] <= 28, 'Fare'] = 0\n",
    "    dataset.loc[(dataset['Fare'] > 28) & (dataset['Fare'] <= 100), 'Fare'] = 1\n",
    "    dataset.loc[ dataset['Fare'] > 100, 'Fare'] = 2"
   ]
  },
  {
   "cell_type": "code",
   "execution_count": 487,
   "metadata": {
    "execution": {
     "iopub.execute_input": "2021-12-21T01:54:16.710166Z",
     "iopub.status.busy": "2021-12-21T01:54:16.709344Z",
     "iopub.status.idle": "2021-12-21T01:54:17.769567Z",
     "shell.execute_reply": "2021-12-21T01:54:17.768360Z",
     "shell.execute_reply.started": "2021-12-21T01:54:16.710119Z"
    }
   },
   "outputs": [],
   "source": [
    "Grid3 = sns.FacetGrid(train, row='Embarked', col='Survived', height=2.2, aspect=1.6)\n",
    "\n",
    "Grid3.map(sns.barplot, 'Sex', 'Fare', alpha=.5, ci=None,order=[\"male\",\"female\"])\n",
    "\n",
    "Grid3.add_legend()"
   ]
  },
  {
   "cell_type": "code",
   "execution_count": 488,
   "metadata": {
    "execution": {
     "iopub.execute_input": "2021-12-21T01:54:17.770881Z",
     "iopub.status.busy": "2021-12-21T01:54:17.770658Z",
     "iopub.status.idle": "2021-12-21T01:54:17.777890Z",
     "shell.execute_reply": "2021-12-21T01:54:17.776933Z",
     "shell.execute_reply.started": "2021-12-21T01:54:17.770853Z"
    }
   },
   "outputs": [],
   "source": [
    "for dataset in train_and_test:\n",
    "    dataset['Cabin'] = dataset['Cabin'].str[:1]"
   ]
  },
  {
   "cell_type": "code",
   "execution_count": 489,
   "metadata": {
    "execution": {
     "iopub.execute_input": "2021-12-21T01:54:17.779570Z",
     "iopub.status.busy": "2021-12-21T01:54:17.779214Z",
     "iopub.status.idle": "2021-12-21T01:54:18.114203Z",
     "shell.execute_reply": "2021-12-21T01:54:18.113584Z",
     "shell.execute_reply.started": "2021-12-21T01:54:17.779534Z"
    }
   },
   "outputs": [],
   "source": [
    "Pclass1 = train[train['Pclass']==1]['Cabin'].value_counts()\n",
    "Pclass2 = train[train['Pclass']==2]['Cabin'].value_counts()\n",
    "Pclass3 = train[train['Pclass']==3]['Cabin'].value_counts()\n",
    "df = pd.DataFrame([Pclass1, Pclass2, Pclass3])\n",
    "df.index = ['1stclass','2ndclass','3rdclass']\n",
    "df.plot(kind='bar',stacked=True, figsize=(10,5))"
   ]
  },
  {
   "cell_type": "code",
   "execution_count": 490,
   "metadata": {
    "execution": {
     "iopub.execute_input": "2021-12-21T01:54:18.115866Z",
     "iopub.status.busy": "2021-12-21T01:54:18.115163Z",
     "iopub.status.idle": "2021-12-21T01:54:18.124238Z",
     "shell.execute_reply": "2021-12-21T01:54:18.123416Z",
     "shell.execute_reply.started": "2021-12-21T01:54:18.115817Z"
    }
   },
   "outputs": [],
   "source": [
    "cabin_mapping = {\"A\": 0, \"B\": 0.4, \"C\": 0.8, \"D\": 1.2, \"E\": 1.6, \"F\": 2, \"G\": 2.4, \"H\": 2.8}\n",
    "for dataset in train_and_test:\n",
    "    dataset['Cabin'] = dataset['Cabin'].map(cabin_mapping)"
   ]
  },
  {
   "cell_type": "code",
   "execution_count": 491,
   "metadata": {
    "execution": {
     "iopub.execute_input": "2021-12-21T01:54:18.125716Z",
     "iopub.status.busy": "2021-12-21T01:54:18.125505Z",
     "iopub.status.idle": "2021-12-21T01:54:18.140298Z",
     "shell.execute_reply": "2021-12-21T01:54:18.139409Z",
     "shell.execute_reply.started": "2021-12-21T01:54:18.125685Z"
    }
   },
   "outputs": [],
   "source": [
    "train[\"Cabin\"].fillna(train.groupby(\"Pclass\")[\"Cabin\"].transform(\"median\"), inplace=True)\n",
    "test[\"Cabin\"].fillna(test.groupby(\"Pclass\")[\"Cabin\"].transform(\"median\"), inplace=True)"
   ]
  },
  {
   "cell_type": "code",
   "execution_count": 492,
   "metadata": {
    "execution": {
     "iopub.execute_input": "2021-12-21T01:54:18.142147Z",
     "iopub.status.busy": "2021-12-21T01:54:18.141410Z",
     "iopub.status.idle": "2021-12-21T01:54:18.154644Z",
     "shell.execute_reply": "2021-12-21T01:54:18.153846Z",
     "shell.execute_reply.started": "2021-12-21T01:54:18.142110Z"
    }
   },
   "outputs": [],
   "source": [
    "train[\"Family\"] = train[\"SibSp\"] + train[\"Parch\"] + 1\n",
    "test[\"Family\"] = test[\"SibSp\"] + test[\"Parch\"] + 1"
   ]
  },
  {
   "cell_type": "code",
   "execution_count": 493,
   "metadata": {
    "execution": {
     "iopub.execute_input": "2021-12-21T01:54:18.156783Z",
     "iopub.status.busy": "2021-12-21T01:54:18.155879Z",
     "iopub.status.idle": "2021-12-21T01:54:18.581772Z",
     "shell.execute_reply": "2021-12-21T01:54:18.580928Z",
     "shell.execute_reply.started": "2021-12-21T01:54:18.156741Z"
    }
   },
   "outputs": [],
   "source": [
    "Grid_3 = sns.FacetGrid(train, hue=\"Survived\",aspect=4)\n",
    "Grid_3.map(sns.kdeplot,'Family',shade= True)\n",
    "Grid_3.set(xlim=(0, train['Family'].max()))\n",
    "Grid_3.add_legend()\n",
    "plt.xlim(0)"
   ]
  },
  {
   "cell_type": "code",
   "execution_count": 494,
   "metadata": {
    "execution": {
     "iopub.execute_input": "2021-12-21T01:54:18.583333Z",
     "iopub.status.busy": "2021-12-21T01:54:18.583103Z",
     "iopub.status.idle": "2021-12-21T01:54:18.592125Z",
     "shell.execute_reply": "2021-12-21T01:54:18.591300Z",
     "shell.execute_reply.started": "2021-12-21T01:54:18.583302Z"
    }
   },
   "outputs": [],
   "source": [
    "family_mapping = {1: 0, 2: 0.4, 3: 0.8, 4: 1.2, 5: 1.6, 6: 2, 7: 2.4, 8: 2.8, 9: 3.2, 10: 3.6, 11: 4}\n",
    "for dataset in train_and_test:\n",
    "    dataset['Family'] = dataset['Family'].map(family_mapping)"
   ]
  },
  {
   "cell_type": "code",
   "execution_count": 495,
   "metadata": {
    "execution": {
     "iopub.execute_input": "2021-12-21T01:54:18.593567Z",
     "iopub.status.busy": "2021-12-21T01:54:18.593322Z",
     "iopub.status.idle": "2021-12-21T01:54:18.620325Z",
     "shell.execute_reply": "2021-12-21T01:54:18.619508Z",
     "shell.execute_reply.started": "2021-12-21T01:54:18.593538Z"
    }
   },
   "outputs": [],
   "source": [
    "train.head()"
   ]
  },
  {
   "cell_type": "code",
   "execution_count": 496,
   "metadata": {
    "execution": {
     "iopub.execute_input": "2021-12-21T01:54:18.621682Z",
     "iopub.status.busy": "2021-12-21T01:54:18.621447Z",
     "iopub.status.idle": "2021-12-21T01:54:18.630519Z",
     "shell.execute_reply": "2021-12-21T01:54:18.629672Z",
     "shell.execute_reply.started": "2021-12-21T01:54:18.621653Z"
    }
   },
   "outputs": [],
   "source": [
    "features_drop = ['Ticket', 'SibSp', 'Parch']\n",
    "train = train.drop(features_drop, axis=1)\n",
    "test = test.drop(features_drop, axis=1)\n",
    "train = train.drop(['PassengerId'], axis=1)"
   ]
  },
  {
   "cell_type": "code",
   "execution_count": 497,
   "metadata": {
    "execution": {
     "iopub.execute_input": "2021-12-21T01:54:18.631927Z",
     "iopub.status.busy": "2021-12-21T01:54:18.631680Z",
     "iopub.status.idle": "2021-12-21T01:54:18.646854Z",
     "shell.execute_reply": "2021-12-21T01:54:18.646102Z",
     "shell.execute_reply.started": "2021-12-21T01:54:18.631898Z"
    }
   },
   "outputs": [],
   "source": [
    "train_data = train.drop('Survived', axis=1)\n",
    "target = train['Survived']\n",
    "\n",
    "train_data.shape, target.shape"
   ]
  },
  {
   "cell_type": "code",
   "execution_count": 498,
   "metadata": {
    "execution": {
     "iopub.execute_input": "2021-12-21T01:54:18.649068Z",
     "iopub.status.busy": "2021-12-21T01:54:18.648179Z",
     "iopub.status.idle": "2021-12-21T01:54:18.668993Z",
     "shell.execute_reply": "2021-12-21T01:54:18.668046Z",
     "shell.execute_reply.started": "2021-12-21T01:54:18.649002Z"
    }
   },
   "outputs": [],
   "source": [
    "train.head()"
   ]
  },
  {
   "cell_type": "code",
   "execution_count": 499,
   "metadata": {
    "execution": {
     "iopub.execute_input": "2021-12-21T01:54:18.671197Z",
     "iopub.status.busy": "2021-12-21T01:54:18.670694Z",
     "iopub.status.idle": "2021-12-21T01:54:18.680961Z",
     "shell.execute_reply": "2021-12-21T01:54:18.680359Z",
     "shell.execute_reply.started": "2021-12-21T01:54:18.671143Z"
    }
   },
   "outputs": [],
   "source": [
    "from sklearn.neighbors import KNeighborsClassifier\n",
    "from sklearn.tree import DecisionTreeClassifier\n",
    "from sklearn.ensemble import RandomForestClassifier\n",
    "from sklearn.naive_bayes import GaussianNB\n",
    "from sklearn.svm import SVC\n",
    "\n",
    "import numpy as np"
   ]
  },
  {
   "cell_type": "code",
   "execution_count": 548,
   "metadata": {
    "execution": {
     "iopub.execute_input": "2021-12-21T01:59:15.644911Z",
     "iopub.status.busy": "2021-12-21T01:59:15.644314Z",
     "iopub.status.idle": "2021-12-21T01:59:15.649307Z",
     "shell.execute_reply": "2021-12-21T01:59:15.648430Z",
     "shell.execute_reply.started": "2021-12-21T01:59:15.644875Z"
    }
   },
   "outputs": [],
   "source": [
    "from sklearn.model_selection import KFold\n",
    "from sklearn.model_selection import cross_val_score\n",
    "k_fold = KFold(n_splits=11, shuffle=True, random_state=0)"
   ]
  },
  {
   "cell_type": "code",
   "execution_count": 549,
   "metadata": {
    "execution": {
     "iopub.execute_input": "2021-12-21T01:59:16.974293Z",
     "iopub.status.busy": "2021-12-21T01:59:16.973818Z",
     "iopub.status.idle": "2021-12-21T01:59:17.093221Z",
     "shell.execute_reply": "2021-12-21T01:59:17.092372Z",
     "shell.execute_reply.started": "2021-12-21T01:59:16.974242Z"
    }
   },
   "outputs": [],
   "source": [
    "clf = KNeighborsClassifier(n_neighbors = 16)\n",
    "scoring = 'accuracy'\n",
    "score = cross_val_score(clf, train_data, target, cv=k_fold, n_jobs=1, scoring=scoring)\n",
    "print(score)"
   ]
  },
  {
   "cell_type": "code",
   "execution_count": 550,
   "metadata": {
    "execution": {
     "iopub.execute_input": "2021-12-21T01:59:18.029154Z",
     "iopub.status.busy": "2021-12-21T01:59:18.028873Z",
     "iopub.status.idle": "2021-12-21T01:59:18.036251Z",
     "shell.execute_reply": "2021-12-21T01:59:18.035385Z",
     "shell.execute_reply.started": "2021-12-21T01:59:18.029125Z"
    }
   },
   "outputs": [],
   "source": [
    "round(np.mean(score)*100, 2)"
   ]
  },
  {
   "cell_type": "code",
   "execution_count": 551,
   "metadata": {
    "execution": {
     "iopub.execute_input": "2021-12-21T01:59:36.499081Z",
     "iopub.status.busy": "2021-12-21T01:59:36.498478Z",
     "iopub.status.idle": "2021-12-21T01:59:36.571879Z",
     "shell.execute_reply": "2021-12-21T01:59:36.570221Z",
     "shell.execute_reply.started": "2021-12-21T01:59:36.499045Z"
    }
   },
   "outputs": [],
   "source": [
    "clf = DecisionTreeClassifier()\n",
    "scoring = 'accuracy'\n",
    "score = cross_val_score(clf, train_data, target, cv=k_fold, n_jobs=1, scoring=scoring)\n",
    "print(score)"
   ]
  },
  {
   "cell_type": "code",
   "execution_count": 552,
   "metadata": {
    "execution": {
     "iopub.execute_input": "2021-12-21T01:59:43.675606Z",
     "iopub.status.busy": "2021-12-21T01:59:43.675332Z",
     "iopub.status.idle": "2021-12-21T01:59:43.682154Z",
     "shell.execute_reply": "2021-12-21T01:59:43.681323Z",
     "shell.execute_reply.started": "2021-12-21T01:59:43.675578Z"
    }
   },
   "outputs": [],
   "source": [
    "round(np.mean(score)*100, 2)"
   ]
  },
  {
   "cell_type": "code",
   "execution_count": 586,
   "metadata": {
    "execution": {
     "iopub.execute_input": "2021-12-21T02:01:44.007578Z",
     "iopub.status.busy": "2021-12-21T02:01:44.007325Z",
     "iopub.status.idle": "2021-12-21T02:01:44.296765Z",
     "shell.execute_reply": "2021-12-21T02:01:44.295969Z",
     "shell.execute_reply.started": "2021-12-21T02:01:44.007550Z"
    }
   },
   "outputs": [],
   "source": [
    "clf = RandomForestClassifier(n_estimators=9)\n",
    "scoring = 'accuracy'\n",
    "score = cross_val_score(clf, train_data, target, cv=k_fold, n_jobs=1, scoring=scoring)\n",
    "print(score)"
   ]
  },
  {
   "cell_type": "code",
   "execution_count": 587,
   "metadata": {
    "execution": {
     "iopub.execute_input": "2021-12-21T02:01:45.304293Z",
     "iopub.status.busy": "2021-12-21T02:01:45.303964Z",
     "iopub.status.idle": "2021-12-21T02:01:45.310343Z",
     "shell.execute_reply": "2021-12-21T02:01:45.309599Z",
     "shell.execute_reply.started": "2021-12-21T02:01:45.304259Z"
    }
   },
   "outputs": [],
   "source": [
    "round(np.mean(score)*100, 2)"
   ]
  },
  {
   "cell_type": "code",
   "execution_count": 588,
   "metadata": {
    "execution": {
     "iopub.execute_input": "2021-12-21T02:02:03.641560Z",
     "iopub.status.busy": "2021-12-21T02:02:03.640924Z",
     "iopub.status.idle": "2021-12-21T02:02:03.699346Z",
     "shell.execute_reply": "2021-12-21T02:02:03.698397Z",
     "shell.execute_reply.started": "2021-12-21T02:02:03.641528Z"
    }
   },
   "outputs": [],
   "source": [
    "clf = GaussianNB()\n",
    "scoring = 'accuracy'\n",
    "score = cross_val_score(clf, train_data, target, cv=k_fold, n_jobs=1, scoring=scoring)\n",
    "print(score)"
   ]
  },
  {
   "cell_type": "code",
   "execution_count": 589,
   "metadata": {
    "execution": {
     "iopub.execute_input": "2021-12-21T02:02:05.023902Z",
     "iopub.status.busy": "2021-12-21T02:02:05.023640Z",
     "iopub.status.idle": "2021-12-21T02:02:05.030981Z",
     "shell.execute_reply": "2021-12-21T02:02:05.030355Z",
     "shell.execute_reply.started": "2021-12-21T02:02:05.023873Z"
    }
   },
   "outputs": [],
   "source": [
    "round(np.mean(score)*100, 2)"
   ]
  },
  {
   "cell_type": "code",
   "execution_count": 590,
   "metadata": {
    "execution": {
     "iopub.execute_input": "2021-12-21T02:02:21.063885Z",
     "iopub.status.busy": "2021-12-21T02:02:21.063565Z",
     "iopub.status.idle": "2021-12-21T02:02:21.281032Z",
     "shell.execute_reply": "2021-12-21T02:02:21.280222Z",
     "shell.execute_reply.started": "2021-12-21T02:02:21.063855Z"
    }
   },
   "outputs": [],
   "source": [
    "clf = SVC()\n",
    "scoring = 'accuracy'\n",
    "score = cross_val_score(clf, train_data, target, cv=k_fold, n_jobs=1, scoring=scoring)\n",
    "print(score)"
   ]
  },
  {
   "cell_type": "code",
   "execution_count": 591,
   "metadata": {
    "execution": {
     "iopub.execute_input": "2021-12-21T02:02:22.420962Z",
     "iopub.status.busy": "2021-12-21T02:02:22.420422Z",
     "iopub.status.idle": "2021-12-21T02:02:22.427518Z",
     "shell.execute_reply": "2021-12-21T02:02:22.426546Z",
     "shell.execute_reply.started": "2021-12-21T02:02:22.420925Z"
    }
   },
   "outputs": [],
   "source": [
    "round(np.mean(score)*100,2)"
   ]
  },
  {
   "cell_type": "code",
   "execution_count": 592,
   "metadata": {
    "execution": {
     "iopub.execute_input": "2021-12-21T02:02:48.781302Z",
     "iopub.status.busy": "2021-12-21T02:02:48.781039Z",
     "iopub.status.idle": "2021-12-21T02:02:48.810774Z",
     "shell.execute_reply": "2021-12-21T02:02:48.810089Z",
     "shell.execute_reply.started": "2021-12-21T02:02:48.781272Z"
    }
   },
   "outputs": [],
   "source": [
    "clf = SVC()\n",
    "clf.fit(train_data, target)\n",
    "\n",
    "test_data = test.drop(\"PassengerId\", axis=1).copy()\n",
    "prediction = clf.predict(test_data)"
   ]
  },
  {
   "cell_type": "code",
   "execution_count": 593,
   "metadata": {
    "execution": {
     "iopub.execute_input": "2021-12-21T02:02:51.304516Z",
     "iopub.status.busy": "2021-12-21T02:02:51.303871Z",
     "iopub.status.idle": "2021-12-21T02:02:51.313309Z",
     "shell.execute_reply": "2021-12-21T02:02:51.312436Z",
     "shell.execute_reply.started": "2021-12-21T02:02:51.304475Z"
    }
   },
   "outputs": [],
   "source": [
    "submission = pd.DataFrame({\n",
    "        \"PassengerId\": test[\"PassengerId\"],\n",
    "        \"Survived\": prediction\n",
    "    })\n",
    "\n",
    "submission.to_csv('submission.csv', index=False)"
   ]
  },
  {
   "cell_type": "code",
   "execution_count": 594,
   "metadata": {
    "execution": {
     "iopub.execute_input": "2021-12-21T02:02:54.508949Z",
     "iopub.status.busy": "2021-12-21T02:02:54.508404Z",
     "iopub.status.idle": "2021-12-21T02:02:54.519046Z",
     "shell.execute_reply": "2021-12-21T02:02:54.518355Z",
     "shell.execute_reply.started": "2021-12-21T02:02:54.508914Z"
    }
   },
   "outputs": [],
   "source": [
    "submission = pd.read_csv('submission.csv')\n",
    "submission.head()"
   ]
  },
  {
   "cell_type": "code",
   "execution_count": null,
   "metadata": {},
   "outputs": [],
   "source": []
  },
  {
   "cell_type": "code",
   "execution_count": null,
   "metadata": {},
   "outputs": [],
   "source": []
  }
 ],
 "metadata": {
  "kernelspec": {
   "display_name": "Python 3",
   "language": "python",
   "name": "python3"
  },
  "language_info": {
   "codemirror_mode": {
    "name": "ipython",
    "version": 3
   },
   "file_extension": ".py",
   "mimetype": "text/x-python",
   "name": "python",
   "nbconvert_exporter": "python",
   "pygments_lexer": "ipython3",
   "version": "3.8.8"
  }
 },
 "nbformat": 4,
 "nbformat_minor": 4
}
