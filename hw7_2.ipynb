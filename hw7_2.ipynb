{
 "cells": [
  {
   "cell_type": "code",
   "execution_count": 69,
   "metadata": {
    "_cell_guid": "b1076dfc-b9ad-4769-8c92-a6c4dae69d19",
    "_uuid": "8f2839f25d086af736a60e9eeb907d3b93b6e0e5",
    "execution": {
     "iopub.execute_input": "2021-12-21T13:47:30.830832Z",
     "iopub.status.busy": "2021-12-21T13:47:30.830066Z",
     "iopub.status.idle": "2021-12-21T13:47:30.847463Z",
     "shell.execute_reply": "2021-12-21T13:47:30.846451Z",
     "shell.execute_reply.started": "2021-12-21T13:47:30.830777Z"
    }
   },
   "outputs": [],
   "source": [
    "# This Python 3 environment comes with many helpful analytics libraries installed\n",
    "# It is defined by the kaggle/python Docker image: https://github.com/kaggle/docker-python\n",
    "# For example, here's several helpful packages to load\n",
    "\n",
    "import numpy as np # linear algebra\n",
    "import pandas as pd # data processing, CSV file I/O (e.g. pd.read_csv)\n",
    "\n",
    "# Input data files are available in the read-only \"../input/\" directory\n",
    "# For example, running this (by clicking run or pressing Shift+Enter) will list all files under the input directory\n",
    "\n",
    "import os\n",
    "for dirname, _, filenames in os.walk('/kaggle/input'):\n",
    "    for filename in filenames:\n",
    "        print(os.path.join(dirname, filename))\n",
    "\n",
    "import matplotlib.pyplot as plt\n",
    "import seaborn as sns\n",
    "sns.set"
   ]
  },
  {
   "cell_type": "code",
   "execution_count": 70,
   "metadata": {
    "execution": {
     "iopub.execute_input": "2021-12-21T13:47:30.849386Z",
     "iopub.status.busy": "2021-12-21T13:47:30.849167Z",
     "iopub.status.idle": "2021-12-21T13:47:30.870781Z",
     "shell.execute_reply": "2021-12-21T13:47:30.870154Z",
     "shell.execute_reply.started": "2021-12-21T13:47:30.849358Z"
    }
   },
   "outputs": [],
   "source": [
    "train = pd.read_csv('/kaggle/input/titanic/train.csv')\n",
    "test = pd.read_csv('/kaggle/input/titanic/test.csv')\n"
   ]
  },
  {
   "cell_type": "code",
   "execution_count": 71,
   "metadata": {
    "execution": {
     "iopub.execute_input": "2021-12-21T13:47:30.872588Z",
     "iopub.status.busy": "2021-12-21T13:47:30.872105Z",
     "iopub.status.idle": "2021-12-21T13:47:30.884482Z",
     "shell.execute_reply": "2021-12-21T13:47:30.883353Z",
     "shell.execute_reply.started": "2021-12-21T13:47:30.872547Z"
    }
   },
   "outputs": [],
   "source": [
    "train.isnull().sum()"
   ]
  },
  {
   "cell_type": "code",
   "execution_count": 72,
   "metadata": {
    "execution": {
     "iopub.execute_input": "2021-12-21T13:47:30.886234Z",
     "iopub.status.busy": "2021-12-21T13:47:30.885719Z",
     "iopub.status.idle": "2021-12-21T13:47:30.895712Z",
     "shell.execute_reply": "2021-12-21T13:47:30.894709Z",
     "shell.execute_reply.started": "2021-12-21T13:47:30.886202Z"
    }
   },
   "outputs": [],
   "source": [
    "test.isnull().sum()"
   ]
  },
  {
   "cell_type": "code",
   "execution_count": 73,
   "metadata": {
    "execution": {
     "iopub.execute_input": "2021-12-21T13:47:30.897961Z",
     "iopub.status.busy": "2021-12-21T13:47:30.897617Z",
     "iopub.status.idle": "2021-12-21T13:47:30.904050Z",
     "shell.execute_reply": "2021-12-21T13:47:30.903416Z",
     "shell.execute_reply.started": "2021-12-21T13:47:30.897933Z"
    }
   },
   "outputs": [],
   "source": [
    "def bar_chart(feature):\n",
    "    survived = train[train['Survived']==1][feature].value_counts()\n",
    "    dead = train[train['Survived']==0][feature].value_counts()\n",
    "    df = pd.DataFrame([survived,dead])\n",
    "    df.index = ['Survived','Dead']\n",
    "    df.plot(kind='bar',stacked=True, figsize=(10,5))"
   ]
  },
  {
   "cell_type": "code",
   "execution_count": 74,
   "metadata": {
    "execution": {
     "iopub.execute_input": "2021-12-21T13:47:30.905500Z",
     "iopub.status.busy": "2021-12-21T13:47:30.905135Z",
     "iopub.status.idle": "2021-12-21T13:47:31.081515Z",
     "shell.execute_reply": "2021-12-21T13:47:31.080363Z",
     "shell.execute_reply.started": "2021-12-21T13:47:30.905473Z"
    }
   },
   "outputs": [],
   "source": [
    "bar_chart('Sex')"
   ]
  },
  {
   "cell_type": "code",
   "execution_count": 75,
   "metadata": {
    "execution": {
     "iopub.execute_input": "2021-12-21T13:47:31.083357Z",
     "iopub.status.busy": "2021-12-21T13:47:31.083020Z",
     "iopub.status.idle": "2021-12-21T13:47:31.100435Z",
     "shell.execute_reply": "2021-12-21T13:47:31.099421Z",
     "shell.execute_reply.started": "2021-12-21T13:47:31.083314Z"
    }
   },
   "outputs": [],
   "source": [
    "train[[\"Sex\", \"Survived\"]].groupby(['Sex'], as_index=False).mean().sort_values(by='Survived', ascending=False)"
   ]
  },
  {
   "cell_type": "code",
   "execution_count": 76,
   "metadata": {
    "execution": {
     "iopub.execute_input": "2021-12-21T13:47:31.102803Z",
     "iopub.status.busy": "2021-12-21T13:47:31.102232Z",
     "iopub.status.idle": "2021-12-21T13:47:31.286793Z",
     "shell.execute_reply": "2021-12-21T13:47:31.286113Z",
     "shell.execute_reply.started": "2021-12-21T13:47:31.102756Z"
    }
   },
   "outputs": [],
   "source": [
    "bar_chart('Pclass')"
   ]
  },
  {
   "cell_type": "code",
   "execution_count": 77,
   "metadata": {
    "execution": {
     "iopub.execute_input": "2021-12-21T13:47:31.288901Z",
     "iopub.status.busy": "2021-12-21T13:47:31.288346Z",
     "iopub.status.idle": "2021-12-21T13:47:31.304398Z",
     "shell.execute_reply": "2021-12-21T13:47:31.303311Z",
     "shell.execute_reply.started": "2021-12-21T13:47:31.288855Z"
    }
   },
   "outputs": [],
   "source": [
    "train[['Pclass', 'Survived']].groupby(['Pclass'], as_index=False).mean().sort_values(by='Survived', ascending=False)"
   ]
  },
  {
   "cell_type": "code",
   "execution_count": 78,
   "metadata": {
    "execution": {
     "iopub.execute_input": "2021-12-21T13:47:31.305751Z",
     "iopub.status.busy": "2021-12-21T13:47:31.305521Z",
     "iopub.status.idle": "2021-12-21T13:47:31.540939Z",
     "shell.execute_reply": "2021-12-21T13:47:31.540206Z",
     "shell.execute_reply.started": "2021-12-21T13:47:31.305713Z"
    }
   },
   "outputs": [],
   "source": [
    "bar_chart('SibSp')"
   ]
  },
  {
   "cell_type": "code",
   "execution_count": 79,
   "metadata": {
    "execution": {
     "iopub.execute_input": "2021-12-21T13:47:31.542443Z",
     "iopub.status.busy": "2021-12-21T13:47:31.542229Z",
     "iopub.status.idle": "2021-12-21T13:47:31.557067Z",
     "shell.execute_reply": "2021-12-21T13:47:31.556058Z",
     "shell.execute_reply.started": "2021-12-21T13:47:31.542416Z"
    }
   },
   "outputs": [],
   "source": [
    "train[[\"SibSp\", \"Survived\"]].groupby(['SibSp'], as_index=False).mean().sort_values(by='Survived', ascending=False)"
   ]
  },
  {
   "cell_type": "code",
   "execution_count": 80,
   "metadata": {
    "execution": {
     "iopub.execute_input": "2021-12-21T13:47:31.559429Z",
     "iopub.status.busy": "2021-12-21T13:47:31.559010Z",
     "iopub.status.idle": "2021-12-21T13:47:31.782927Z",
     "shell.execute_reply": "2021-12-21T13:47:31.781630Z",
     "shell.execute_reply.started": "2021-12-21T13:47:31.559387Z"
    }
   },
   "outputs": [],
   "source": [
    "bar_chart('Parch')"
   ]
  },
  {
   "cell_type": "code",
   "execution_count": 81,
   "metadata": {
    "execution": {
     "iopub.execute_input": "2021-12-21T13:47:31.785038Z",
     "iopub.status.busy": "2021-12-21T13:47:31.784734Z",
     "iopub.status.idle": "2021-12-21T13:47:31.801830Z",
     "shell.execute_reply": "2021-12-21T13:47:31.801062Z",
     "shell.execute_reply.started": "2021-12-21T13:47:31.784995Z"
    }
   },
   "outputs": [],
   "source": [
    "train[[\"Parch\", \"Survived\"]].groupby(['Parch'], as_index=False).mean().sort_values(by='Survived', ascending=False)"
   ]
  },
  {
   "cell_type": "code",
   "execution_count": 82,
   "metadata": {
    "execution": {
     "iopub.execute_input": "2021-12-21T13:47:31.805993Z",
     "iopub.status.busy": "2021-12-21T13:47:31.805182Z",
     "iopub.status.idle": "2021-12-21T13:47:31.988093Z",
     "shell.execute_reply": "2021-12-21T13:47:31.987191Z",
     "shell.execute_reply.started": "2021-12-21T13:47:31.805945Z"
    }
   },
   "outputs": [],
   "source": [
    "bar_chart('Embarked')"
   ]
  },
  {
   "cell_type": "code",
   "execution_count": 83,
   "metadata": {
    "execution": {
     "iopub.execute_input": "2021-12-21T13:47:31.989492Z",
     "iopub.status.busy": "2021-12-21T13:47:31.989257Z",
     "iopub.status.idle": "2021-12-21T13:47:32.004464Z",
     "shell.execute_reply": "2021-12-21T13:47:32.003530Z",
     "shell.execute_reply.started": "2021-12-21T13:47:31.989463Z"
    }
   },
   "outputs": [],
   "source": [
    "train[[\"Embarked\", \"Survived\"]].groupby(['Embarked'], as_index=False).mean().sort_values(by='Survived', ascending=False)"
   ]
  },
  {
   "cell_type": "code",
   "execution_count": 84,
   "metadata": {
    "execution": {
     "iopub.execute_input": "2021-12-21T13:47:32.006102Z",
     "iopub.status.busy": "2021-12-21T13:47:32.005863Z",
     "iopub.status.idle": "2021-12-21T13:47:32.011363Z",
     "shell.execute_reply": "2021-12-21T13:47:32.010400Z",
     "shell.execute_reply.started": "2021-12-21T13:47:32.006067Z"
    }
   },
   "outputs": [],
   "source": [
    "train_and_test = [train, test]"
   ]
  },
  {
   "cell_type": "code",
   "execution_count": 85,
   "metadata": {
    "execution": {
     "iopub.execute_input": "2021-12-21T13:47:32.013557Z",
     "iopub.status.busy": "2021-12-21T13:47:32.012903Z",
     "iopub.status.idle": "2021-12-21T13:47:32.027932Z",
     "shell.execute_reply": "2021-12-21T13:47:32.027281Z",
     "shell.execute_reply.started": "2021-12-21T13:47:32.013505Z"
    }
   },
   "outputs": [],
   "source": [
    "for dataset in train_and_test:\n",
    "    dataset['Marryed'] = dataset['Name'].str.extract(' ([A-Za-z]+)\\.', expand=False)"
   ]
  },
  {
   "cell_type": "code",
   "execution_count": 86,
   "metadata": {
    "execution": {
     "iopub.execute_input": "2021-12-21T13:47:32.029495Z",
     "iopub.status.busy": "2021-12-21T13:47:32.028971Z",
     "iopub.status.idle": "2021-12-21T13:47:32.050735Z",
     "shell.execute_reply": "2021-12-21T13:47:32.049686Z",
     "shell.execute_reply.started": "2021-12-21T13:47:32.029465Z"
    }
   },
   "outputs": [],
   "source": [
    "train['Marryed'].value_counts()"
   ]
  },
  {
   "cell_type": "code",
   "execution_count": 87,
   "metadata": {
    "execution": {
     "iopub.execute_input": "2021-12-21T13:47:32.053165Z",
     "iopub.status.busy": "2021-12-21T13:47:32.052612Z",
     "iopub.status.idle": "2021-12-21T13:47:32.064826Z",
     "shell.execute_reply": "2021-12-21T13:47:32.064220Z",
     "shell.execute_reply.started": "2021-12-21T13:47:32.053111Z"
    }
   },
   "outputs": [],
   "source": [
    "test['Marryed'].value_counts()"
   ]
  },
  {
   "cell_type": "code",
   "execution_count": 88,
   "metadata": {
    "execution": {
     "iopub.execute_input": "2021-12-21T13:47:32.066210Z",
     "iopub.status.busy": "2021-12-21T13:47:32.065867Z",
     "iopub.status.idle": "2021-12-21T13:47:32.076886Z",
     "shell.execute_reply": "2021-12-21T13:47:32.075996Z",
     "shell.execute_reply.started": "2021-12-21T13:47:32.066182Z"
    }
   },
   "outputs": [],
   "source": [
    "Marryed_mapping = {\"Mr\": 0, \"Miss\": 1, \"Mrs\": 2, \"Master\": 4, \"Dr\": 3, \"Rev\": 3, \n",
    "                  \"Col\":3, \"Major\": 3, \"Mlle\": 3, \"Countess\": 3, \"Ms\": 3, \"Lady\": 3,\n",
    "                  \"Jonkheer\": 3, \"Don\": 3, \"Dona\": 3, \"Mme\": 3, \"Capt\": 3, \"Sir\": 3 }\n",
    "for dataset in train_and_test:\n",
    "    dataset['Marryed'] = dataset['Marryed'].map(Marryed_mapping)"
   ]
  },
  {
   "cell_type": "code",
   "execution_count": 89,
   "metadata": {
    "execution": {
     "iopub.execute_input": "2021-12-21T13:47:32.078382Z",
     "iopub.status.busy": "2021-12-21T13:47:32.078063Z",
     "iopub.status.idle": "2021-12-21T13:47:32.091786Z",
     "shell.execute_reply": "2021-12-21T13:47:32.091168Z",
     "shell.execute_reply.started": "2021-12-21T13:47:32.078355Z"
    }
   },
   "outputs": [],
   "source": [
    "train.drop('Name', axis=1, inplace=True)\n",
    "test.drop('Name', axis=1, inplace=True)"
   ]
  },
  {
   "cell_type": "code",
   "execution_count": 90,
   "metadata": {
    "execution": {
     "iopub.execute_input": "2021-12-21T13:47:32.093109Z",
     "iopub.status.busy": "2021-12-21T13:47:32.092799Z",
     "iopub.status.idle": "2021-12-21T13:47:32.114504Z",
     "shell.execute_reply": "2021-12-21T13:47:32.113593Z",
     "shell.execute_reply.started": "2021-12-21T13:47:32.093082Z"
    }
   },
   "outputs": [],
   "source": [
    "train.head()"
   ]
  },
  {
   "cell_type": "code",
   "execution_count": 91,
   "metadata": {
    "execution": {
     "iopub.execute_input": "2021-12-21T13:47:32.115968Z",
     "iopub.status.busy": "2021-12-21T13:47:32.115712Z",
     "iopub.status.idle": "2021-12-21T13:47:32.138011Z",
     "shell.execute_reply": "2021-12-21T13:47:32.137335Z",
     "shell.execute_reply.started": "2021-12-21T13:47:32.115939Z"
    }
   },
   "outputs": [],
   "source": [
    "test.head()"
   ]
  },
  {
   "cell_type": "code",
   "execution_count": 92,
   "metadata": {
    "execution": {
     "iopub.execute_input": "2021-12-21T13:47:32.139285Z",
     "iopub.status.busy": "2021-12-21T13:47:32.139034Z",
     "iopub.status.idle": "2021-12-21T13:47:32.569293Z",
     "shell.execute_reply": "2021-12-21T13:47:32.568457Z",
     "shell.execute_reply.started": "2021-12-21T13:47:32.139255Z"
    }
   },
   "outputs": [],
   "source": [
    "g = sns.FacetGrid(train, col='Survived')\n",
    "g.map(plt.hist, 'Age', bins=20)"
   ]
  },
  {
   "cell_type": "code",
   "execution_count": 93,
   "metadata": {
    "execution": {
     "iopub.execute_input": "2021-12-21T13:47:32.572787Z",
     "iopub.status.busy": "2021-12-21T13:47:32.572544Z",
     "iopub.status.idle": "2021-12-21T13:47:33.584744Z",
     "shell.execute_reply": "2021-12-21T13:47:33.583757Z",
     "shell.execute_reply.started": "2021-12-21T13:47:32.572756Z"
    }
   },
   "outputs": [],
   "source": [
    "grid = sns.FacetGrid(train, col='Survived', row='Sex', hue=\"Sex\", height=2.2, aspect=1.6)\n",
    "grid.map(plt.hist, 'Age', alpha=.5, bins=20)\n",
    "grid.add_legend();"
   ]
  },
  {
   "cell_type": "code",
   "execution_count": 94,
   "metadata": {
    "execution": {
     "iopub.execute_input": "2021-12-21T13:47:33.586240Z",
     "iopub.status.busy": "2021-12-21T13:47:33.585996Z",
     "iopub.status.idle": "2021-12-21T13:47:33.594258Z",
     "shell.execute_reply": "2021-12-21T13:47:33.593119Z",
     "shell.execute_reply.started": "2021-12-21T13:47:33.586209Z"
    }
   },
   "outputs": [],
   "source": [
    "sex_mapping = {\"male\": 0, \"female\": 1}\n",
    "for dataset in train_and_test:\n",
    "    dataset['Sex'] = dataset['Sex'].map(sex_mapping)"
   ]
  },
  {
   "cell_type": "code",
   "execution_count": 95,
   "metadata": {
    "execution": {
     "iopub.execute_input": "2021-12-21T13:47:33.595788Z",
     "iopub.status.busy": "2021-12-21T13:47:33.595568Z",
     "iopub.status.idle": "2021-12-21T13:47:33.613050Z",
     "shell.execute_reply": "2021-12-21T13:47:33.612190Z",
     "shell.execute_reply.started": "2021-12-21T13:47:33.595761Z"
    }
   },
   "outputs": [],
   "source": [
    "train[\"Age\"].fillna(train.groupby(\"Sex\")[\"Age\"].transform(\"median\"), inplace=True)\n",
    "test[\"Age\"].fillna(test.groupby(\"Sex\")[\"Age\"].transform(\"median\"), inplace=True)"
   ]
  },
  {
   "cell_type": "code",
   "execution_count": 96,
   "metadata": {
    "execution": {
     "iopub.execute_input": "2021-12-21T13:47:33.614933Z",
     "iopub.status.busy": "2021-12-21T13:47:33.614249Z",
     "iopub.status.idle": "2021-12-21T13:47:33.937096Z",
     "shell.execute_reply": "2021-12-21T13:47:33.936231Z",
     "shell.execute_reply.started": "2021-12-21T13:47:33.614886Z"
    }
   },
   "outputs": [],
   "source": [
    "Grid_1 = sns.FacetGrid(train, hue=\"Survived\",aspect=4)\n",
    "Grid_1.map(sns.kdeplot,'Age',shade= True)\n",
    "Grid_1.set(xlim=(0, train['Age'].max()))\n",
    "Grid_1.add_legend()\n",
    "\n",
    "plt.show()"
   ]
  },
  {
   "cell_type": "code",
   "execution_count": 97,
   "metadata": {
    "execution": {
     "iopub.execute_input": "2021-12-21T13:47:33.939104Z",
     "iopub.status.busy": "2021-12-21T13:47:33.938413Z",
     "iopub.status.idle": "2021-12-21T13:47:34.305625Z",
     "shell.execute_reply": "2021-12-21T13:47:34.304779Z",
     "shell.execute_reply.started": "2021-12-21T13:47:33.939066Z"
    }
   },
   "outputs": [],
   "source": [
    "Grid_1 = sns.FacetGrid(train, hue=\"Survived\",aspect=4)\n",
    "Grid_1.map(sns.kdeplot,'Age',shade= True)\n",
    "Grid_1.set(xlim=(0, train['Age'].max()))\n",
    "Grid_1.add_legend()\n",
    "plt.xlim(0,20)"
   ]
  },
  {
   "cell_type": "code",
   "execution_count": 98,
   "metadata": {
    "execution": {
     "iopub.execute_input": "2021-12-21T13:47:34.307129Z",
     "iopub.status.busy": "2021-12-21T13:47:34.306930Z",
     "iopub.status.idle": "2021-12-21T13:47:34.661603Z",
     "shell.execute_reply": "2021-12-21T13:47:34.660742Z",
     "shell.execute_reply.started": "2021-12-21T13:47:34.307103Z"
    }
   },
   "outputs": [],
   "source": [
    "Grid_1 = sns.FacetGrid(train, hue=\"Survived\",aspect=4)\n",
    "Grid_1.map(sns.kdeplot,'Age',shade= True)\n",
    "Grid_1.set(xlim=(0, train['Age'].max()))\n",
    "Grid_1.add_legend()\n",
    "plt.xlim(20,45)"
   ]
  },
  {
   "cell_type": "code",
   "execution_count": 99,
   "metadata": {
    "execution": {
     "iopub.execute_input": "2021-12-21T13:47:34.663807Z",
     "iopub.status.busy": "2021-12-21T13:47:34.662877Z",
     "iopub.status.idle": "2021-12-21T13:47:35.014689Z",
     "shell.execute_reply": "2021-12-21T13:47:35.013852Z",
     "shell.execute_reply.started": "2021-12-21T13:47:34.663760Z"
    }
   },
   "outputs": [],
   "source": [
    "Grid_1 = sns.FacetGrid(train, hue=\"Survived\",aspect=4)\n",
    "Grid_1.map(sns.kdeplot,'Age',shade= True)\n",
    "Grid_1.set(xlim=(0, train['Age'].max()))\n",
    "Grid_1.add_legend()\n",
    "plt.xlim(45,60)"
   ]
  },
  {
   "cell_type": "code",
   "execution_count": 100,
   "metadata": {
    "execution": {
     "iopub.execute_input": "2021-12-21T13:47:35.016861Z",
     "iopub.status.busy": "2021-12-21T13:47:35.016011Z",
     "iopub.status.idle": "2021-12-21T13:47:35.366454Z",
     "shell.execute_reply": "2021-12-21T13:47:35.365624Z",
     "shell.execute_reply.started": "2021-12-21T13:47:35.016813Z"
    }
   },
   "outputs": [],
   "source": [
    "Grid_1 = sns.FacetGrid(train, hue=\"Survived\",aspect=4)\n",
    "Grid_1.map(sns.kdeplot,'Age',shade= True)\n",
    "Grid_1.set(xlim=(0, train['Age'].max()))\n",
    "Grid_1.add_legend()\n",
    "plt.xlim(60,80)"
   ]
  },
  {
   "cell_type": "code",
   "execution_count": 101,
   "metadata": {
    "execution": {
     "iopub.execute_input": "2021-12-21T13:47:35.368280Z",
     "iopub.status.busy": "2021-12-21T13:47:35.367811Z",
     "iopub.status.idle": "2021-12-21T13:47:35.383038Z",
     "shell.execute_reply": "2021-12-21T13:47:35.382292Z",
     "shell.execute_reply.started": "2021-12-21T13:47:35.368232Z"
    }
   },
   "outputs": [],
   "source": [
    "for dataset in train_and_test:    \n",
    "    dataset.loc[ dataset['Age'] <= 16, 'Age'] = 0\n",
    "    dataset.loc[(dataset['Age'] > 16) & (dataset['Age'] <= 34), 'Age'] = 1\n",
    "    dataset.loc[(dataset['Age'] > 34) & (dataset['Age'] <= 47), 'Age'] = 2\n",
    "    dataset.loc[(dataset['Age'] > 47) & (dataset['Age'] <= 59), 'Age'] = 3\n",
    "    dataset.loc[ dataset['Age'] > 59, 'Age'] = 4"
   ]
  },
  {
   "cell_type": "code",
   "execution_count": 102,
   "metadata": {
    "execution": {
     "iopub.execute_input": "2021-12-21T13:47:35.384792Z",
     "iopub.status.busy": "2021-12-21T13:47:35.384189Z",
     "iopub.status.idle": "2021-12-21T13:47:35.625503Z",
     "shell.execute_reply": "2021-12-21T13:47:35.624535Z",
     "shell.execute_reply.started": "2021-12-21T13:47:35.384756Z"
    }
   },
   "outputs": [],
   "source": [
    "Pclass1 = train[train['Pclass']==1]['Embarked'].value_counts()\n",
    "Pclass2 = train[train['Pclass']==2]['Embarked'].value_counts()\n",
    "Pclass3 = train[train['Pclass']==3]['Embarked'].value_counts()\n",
    "df = pd.DataFrame([Pclass1, Pclass2, Pclass3])\n",
    "df.index = ['1stclass','2ndclass','3rdclass']\n",
    "df.plot(kind='bar',stacked=True, figsize=(10,5))"
   ]
  },
  {
   "cell_type": "code",
   "execution_count": 103,
   "metadata": {
    "execution": {
     "iopub.execute_input": "2021-12-21T13:47:35.627262Z",
     "iopub.status.busy": "2021-12-21T13:47:35.626937Z",
     "iopub.status.idle": "2021-12-21T13:47:35.633497Z",
     "shell.execute_reply": "2021-12-21T13:47:35.632370Z",
     "shell.execute_reply.started": "2021-12-21T13:47:35.627219Z"
    }
   },
   "outputs": [],
   "source": [
    "for dataset in train_and_test:\n",
    "    dataset['Embarked'] = dataset['Embarked'].fillna('S')"
   ]
  },
  {
   "cell_type": "code",
   "execution_count": 104,
   "metadata": {
    "execution": {
     "iopub.execute_input": "2021-12-21T13:47:35.635584Z",
     "iopub.status.busy": "2021-12-21T13:47:35.635275Z",
     "iopub.status.idle": "2021-12-21T13:47:35.648373Z",
     "shell.execute_reply": "2021-12-21T13:47:35.647755Z",
     "shell.execute_reply.started": "2021-12-21T13:47:35.635531Z"
    }
   },
   "outputs": [],
   "source": [
    "embarked_mapping = {\"S\": 0, \"C\": 1, \"Q\": 2}\n",
    "for dataset in train_and_test:\n",
    "    dataset['Embarked'] = dataset['Embarked'].map(embarked_mapping)"
   ]
  },
  {
   "cell_type": "code",
   "execution_count": 105,
   "metadata": {
    "execution": {
     "iopub.execute_input": "2021-12-21T13:47:35.650125Z",
     "iopub.status.busy": "2021-12-21T13:47:35.649672Z",
     "iopub.status.idle": "2021-12-21T13:47:35.667797Z",
     "shell.execute_reply": "2021-12-21T13:47:35.666823Z",
     "shell.execute_reply.started": "2021-12-21T13:47:35.650082Z"
    }
   },
   "outputs": [],
   "source": [
    "print (train[['Pclass', 'Fare']].groupby(['Pclass'], as_index=False).mean())\n",
    "print(\"\")\n",
    "print(test[test[\"Fare\"].isnull()][\"Pclass\"])"
   ]
  },
  {
   "cell_type": "code",
   "execution_count": 106,
   "metadata": {
    "execution": {
     "iopub.execute_input": "2021-12-21T13:47:35.670405Z",
     "iopub.status.busy": "2021-12-21T13:47:35.669616Z",
     "iopub.status.idle": "2021-12-21T13:47:36.050537Z",
     "shell.execute_reply": "2021-12-21T13:47:36.049595Z",
     "shell.execute_reply.started": "2021-12-21T13:47:35.670347Z"
    }
   },
   "outputs": [],
   "source": [
    "Grid_2 = sns.FacetGrid(train, hue=\"Survived\",aspect=4)\n",
    "Grid_2.map(sns.kdeplot,'Fare',shade= True)\n",
    "Grid_2.set(xlim=(0, train['Fare'].max()))\n",
    "Grid_2.add_legend()\n",
    "\n",
    "plt.show()"
   ]
  },
  {
   "cell_type": "code",
   "execution_count": 107,
   "metadata": {
    "execution": {
     "iopub.execute_input": "2021-12-21T13:47:36.052381Z",
     "iopub.status.busy": "2021-12-21T13:47:36.052037Z",
     "iopub.status.idle": "2021-12-21T13:47:36.061756Z",
     "shell.execute_reply": "2021-12-21T13:47:36.060983Z",
     "shell.execute_reply.started": "2021-12-21T13:47:36.052337Z"
    }
   },
   "outputs": [],
   "source": [
    "train[\"Fare\"].fillna(train.groupby(\"Pclass\")[\"Fare\"].transform(\"median\"), inplace=True)\n",
    "test[\"Fare\"].fillna(test.groupby(\"Pclass\")[\"Fare\"].transform(\"median\"), inplace=True)"
   ]
  },
  {
   "cell_type": "code",
   "execution_count": 108,
   "metadata": {
    "execution": {
     "iopub.execute_input": "2021-12-21T13:47:36.063215Z",
     "iopub.status.busy": "2021-12-21T13:47:36.062939Z",
     "iopub.status.idle": "2021-12-21T13:47:36.661913Z",
     "shell.execute_reply": "2021-12-21T13:47:36.660877Z",
     "shell.execute_reply.started": "2021-12-21T13:47:36.063185Z"
    }
   },
   "outputs": [],
   "source": [
    "Grid_2 = sns.FacetGrid(train, hue=\"Survived\",aspect=4)\n",
    "Grid_2.map(sns.kdeplot,'Fare',shade= True)\n",
    "Grid_2.set(xlim=(0, train['Fare'].max()))\n",
    "Grid_2.add_legend()\n",
    "plt.xlim(0,35)"
   ]
  },
  {
   "cell_type": "code",
   "execution_count": 109,
   "metadata": {
    "execution": {
     "iopub.execute_input": "2021-12-21T13:47:36.667829Z",
     "iopub.status.busy": "2021-12-21T13:47:36.667578Z",
     "iopub.status.idle": "2021-12-21T13:47:36.677194Z",
     "shell.execute_reply": "2021-12-21T13:47:36.676391Z",
     "shell.execute_reply.started": "2021-12-21T13:47:36.667798Z"
    }
   },
   "outputs": [],
   "source": [
    "for dataset in train_and_test:    \n",
    "    dataset.loc[ dataset['Fare'] <= 28, 'Fare'] = 0\n",
    "    dataset.loc[(dataset['Fare'] > 28) & (dataset['Fare'] <= 100), 'Fare'] = 1\n",
    "    dataset.loc[ dataset['Fare'] > 100, 'Fare'] = 2"
   ]
  },
  {
   "cell_type": "code",
   "execution_count": 110,
   "metadata": {
    "execution": {
     "iopub.execute_input": "2021-12-21T13:47:36.678688Z",
     "iopub.status.busy": "2021-12-21T13:47:36.678445Z",
     "iopub.status.idle": "2021-12-21T13:47:37.677165Z",
     "shell.execute_reply": "2021-12-21T13:47:37.676304Z",
     "shell.execute_reply.started": "2021-12-21T13:47:36.678659Z"
    }
   },
   "outputs": [],
   "source": [
    "Grid3 = sns.FacetGrid(train, row='Embarked', col='Survived', height=2.2, aspect=1.6)\n",
    "\n",
    "Grid3.map(sns.barplot, 'Sex', 'Fare', alpha=.5, ci=None,order=[\"male\",\"female\"])\n",
    "\n",
    "Grid3.add_legend()"
   ]
  },
  {
   "cell_type": "code",
   "execution_count": 111,
   "metadata": {
    "execution": {
     "iopub.execute_input": "2021-12-21T13:47:37.678974Z",
     "iopub.status.busy": "2021-12-21T13:47:37.678613Z",
     "iopub.status.idle": "2021-12-21T13:47:37.684070Z",
     "shell.execute_reply": "2021-12-21T13:47:37.683511Z",
     "shell.execute_reply.started": "2021-12-21T13:47:37.678942Z"
    }
   },
   "outputs": [],
   "source": [
    "for dataset in train_and_test:\n",
    "    dataset['Cabin'] = dataset['Cabin'].str[:1]"
   ]
  },
  {
   "cell_type": "code",
   "execution_count": 112,
   "metadata": {
    "execution": {
     "iopub.execute_input": "2021-12-21T13:47:37.685680Z",
     "iopub.status.busy": "2021-12-21T13:47:37.685297Z",
     "iopub.status.idle": "2021-12-21T13:47:38.037789Z",
     "shell.execute_reply": "2021-12-21T13:47:38.036796Z",
     "shell.execute_reply.started": "2021-12-21T13:47:37.685648Z"
    }
   },
   "outputs": [],
   "source": [
    "Pclass1 = train[train['Pclass']==1]['Cabin'].value_counts()\n",
    "Pclass2 = train[train['Pclass']==2]['Cabin'].value_counts()\n",
    "Pclass3 = train[train['Pclass']==3]['Cabin'].value_counts()\n",
    "df = pd.DataFrame([Pclass1, Pclass2, Pclass3])\n",
    "df.index = ['1stclass','2ndclass','3rdclass']\n",
    "df.plot(kind='bar',stacked=True, figsize=(10,5))"
   ]
  },
  {
   "cell_type": "code",
   "execution_count": 113,
   "metadata": {
    "execution": {
     "iopub.execute_input": "2021-12-21T13:47:38.039300Z",
     "iopub.status.busy": "2021-12-21T13:47:38.039044Z",
     "iopub.status.idle": "2021-12-21T13:47:38.048085Z",
     "shell.execute_reply": "2021-12-21T13:47:38.046718Z",
     "shell.execute_reply.started": "2021-12-21T13:47:38.039271Z"
    }
   },
   "outputs": [],
   "source": [
    "cabin_mapping = {\"A\": 0, \"B\": 0.4, \"C\": 0.8, \"D\": 1.2, \"E\": 1.6, \"F\": 2, \"G\": 2.4, \"H\": 2.8}\n",
    "for dataset in train_and_test:\n",
    "    dataset['Cabin'] = dataset['Cabin'].map(cabin_mapping)"
   ]
  },
  {
   "cell_type": "code",
   "execution_count": 114,
   "metadata": {
    "execution": {
     "iopub.execute_input": "2021-12-21T13:47:38.049660Z",
     "iopub.status.busy": "2021-12-21T13:47:38.049345Z",
     "iopub.status.idle": "2021-12-21T13:47:38.064200Z",
     "shell.execute_reply": "2021-12-21T13:47:38.063348Z",
     "shell.execute_reply.started": "2021-12-21T13:47:38.049626Z"
    }
   },
   "outputs": [],
   "source": [
    "train[\"Cabin\"].fillna(train.groupby(\"Pclass\")[\"Cabin\"].transform(\"median\"), inplace=True)\n",
    "test[\"Cabin\"].fillna(test.groupby(\"Pclass\")[\"Cabin\"].transform(\"median\"), inplace=True)"
   ]
  },
  {
   "cell_type": "code",
   "execution_count": 115,
   "metadata": {
    "execution": {
     "iopub.execute_input": "2021-12-21T13:47:38.066192Z",
     "iopub.status.busy": "2021-12-21T13:47:38.065507Z",
     "iopub.status.idle": "2021-12-21T13:47:38.076171Z",
     "shell.execute_reply": "2021-12-21T13:47:38.075567Z",
     "shell.execute_reply.started": "2021-12-21T13:47:38.066130Z"
    }
   },
   "outputs": [],
   "source": [
    "train[\"Family\"] = train[\"SibSp\"] + train[\"Parch\"] + 1\n",
    "test[\"Family\"] = test[\"SibSp\"] + test[\"Parch\"] + 1"
   ]
  },
  {
   "cell_type": "code",
   "execution_count": 116,
   "metadata": {
    "execution": {
     "iopub.execute_input": "2021-12-21T13:47:38.078041Z",
     "iopub.status.busy": "2021-12-21T13:47:38.077569Z",
     "iopub.status.idle": "2021-12-21T13:47:38.408505Z",
     "shell.execute_reply": "2021-12-21T13:47:38.407527Z",
     "shell.execute_reply.started": "2021-12-21T13:47:38.077991Z"
    }
   },
   "outputs": [],
   "source": [
    "Grid_3 = sns.FacetGrid(train, hue=\"Survived\",aspect=4)\n",
    "Grid_3.map(sns.kdeplot,'Family',shade= True)\n",
    "Grid_3.set(xlim=(0, train['Family'].max()))\n",
    "Grid_3.add_legend()\n",
    "plt.xlim(0)"
   ]
  },
  {
   "cell_type": "code",
   "execution_count": 117,
   "metadata": {
    "execution": {
     "iopub.execute_input": "2021-12-21T13:47:38.410331Z",
     "iopub.status.busy": "2021-12-21T13:47:38.409942Z",
     "iopub.status.idle": "2021-12-21T13:47:38.419886Z",
     "shell.execute_reply": "2021-12-21T13:47:38.419007Z",
     "shell.execute_reply.started": "2021-12-21T13:47:38.410287Z"
    }
   },
   "outputs": [],
   "source": [
    "family_mapping = {1: 0, 2: 0.4, 3: 0.8, 4: 1.2, 5: 1.6, 6: 2, 7: 2.4, 8: 2.8, 9: 3.2, 10: 3.6, 11: 4}\n",
    "for dataset in train_and_test:\n",
    "    dataset['Family'] = dataset['Family'].map(family_mapping)"
   ]
  },
  {
   "cell_type": "code",
   "execution_count": 118,
   "metadata": {
    "execution": {
     "iopub.execute_input": "2021-12-21T13:47:38.421356Z",
     "iopub.status.busy": "2021-12-21T13:47:38.421030Z",
     "iopub.status.idle": "2021-12-21T13:47:38.444083Z",
     "shell.execute_reply": "2021-12-21T13:47:38.442391Z",
     "shell.execute_reply.started": "2021-12-21T13:47:38.421316Z"
    }
   },
   "outputs": [],
   "source": [
    "train.head()"
   ]
  },
  {
   "cell_type": "code",
   "execution_count": 119,
   "metadata": {
    "execution": {
     "iopub.execute_input": "2021-12-21T13:47:38.445902Z",
     "iopub.status.busy": "2021-12-21T13:47:38.445301Z",
     "iopub.status.idle": "2021-12-21T13:47:38.458945Z",
     "shell.execute_reply": "2021-12-21T13:47:38.458223Z",
     "shell.execute_reply.started": "2021-12-21T13:47:38.445862Z"
    }
   },
   "outputs": [],
   "source": [
    "features_drop = ['Ticket', 'SibSp', 'Parch']\n",
    "train = train.drop(features_drop, axis=1)\n",
    "test = test.drop(features_drop, axis=1)\n",
    "train = train.drop(['PassengerId'], axis=1)"
   ]
  },
  {
   "cell_type": "code",
   "execution_count": 120,
   "metadata": {
    "execution": {
     "iopub.execute_input": "2021-12-21T13:47:38.460667Z",
     "iopub.status.busy": "2021-12-21T13:47:38.460293Z",
     "iopub.status.idle": "2021-12-21T13:47:38.471277Z",
     "shell.execute_reply": "2021-12-21T13:47:38.470232Z",
     "shell.execute_reply.started": "2021-12-21T13:47:38.460625Z"
    }
   },
   "outputs": [],
   "source": [
    "train_data = train.drop('Survived', axis=1)\n",
    "target = train['Survived']\n",
    "\n",
    "train_data.shape, target.shape"
   ]
  },
  {
   "cell_type": "code",
   "execution_count": 121,
   "metadata": {
    "execution": {
     "iopub.execute_input": "2021-12-21T13:47:38.473072Z",
     "iopub.status.busy": "2021-12-21T13:47:38.472730Z",
     "iopub.status.idle": "2021-12-21T13:47:38.493098Z",
     "shell.execute_reply": "2021-12-21T13:47:38.492233Z",
     "shell.execute_reply.started": "2021-12-21T13:47:38.473040Z"
    }
   },
   "outputs": [],
   "source": [
    "train.head()"
   ]
  },
  {
   "cell_type": "code",
   "execution_count": 122,
   "metadata": {
    "execution": {
     "iopub.execute_input": "2021-12-21T13:47:38.498009Z",
     "iopub.status.busy": "2021-12-21T13:47:38.494239Z",
     "iopub.status.idle": "2021-12-21T13:47:38.502599Z",
     "shell.execute_reply": "2021-12-21T13:47:38.501705Z",
     "shell.execute_reply.started": "2021-12-21T13:47:38.497972Z"
    }
   },
   "outputs": [],
   "source": [
    "from sklearn.neighbors import KNeighborsClassifier\n",
    "from sklearn.tree import DecisionTreeClassifier\n",
    "from sklearn.ensemble import RandomForestClassifier\n",
    "from sklearn.naive_bayes import GaussianNB\n",
    "from sklearn.svm import SVC\n",
    "\n",
    "import numpy as np"
   ]
  },
  {
   "cell_type": "code",
   "execution_count": 123,
   "metadata": {
    "execution": {
     "iopub.execute_input": "2021-12-21T13:47:38.505092Z",
     "iopub.status.busy": "2021-12-21T13:47:38.504352Z",
     "iopub.status.idle": "2021-12-21T13:47:38.515443Z",
     "shell.execute_reply": "2021-12-21T13:47:38.514466Z",
     "shell.execute_reply.started": "2021-12-21T13:47:38.505016Z"
    }
   },
   "outputs": [],
   "source": [
    "from sklearn.model_selection import KFold\n",
    "from sklearn.model_selection import cross_val_score\n",
    "k_fold = KFold(n_splits=11, shuffle=True, random_state=0)"
   ]
  },
  {
   "cell_type": "code",
   "execution_count": 124,
   "metadata": {
    "execution": {
     "iopub.execute_input": "2021-12-21T13:47:38.517840Z",
     "iopub.status.busy": "2021-12-21T13:47:38.517505Z",
     "iopub.status.idle": "2021-12-21T13:47:38.648329Z",
     "shell.execute_reply": "2021-12-21T13:47:38.647276Z",
     "shell.execute_reply.started": "2021-12-21T13:47:38.517797Z"
    }
   },
   "outputs": [],
   "source": [
    "clf = KNeighborsClassifier(n_neighbors = 16)\n",
    "scoring = 'accuracy'\n",
    "score = cross_val_score(clf, train_data, target, cv=k_fold, n_jobs=1, scoring=scoring)\n",
    "print(score)"
   ]
  },
  {
   "cell_type": "code",
   "execution_count": 125,
   "metadata": {
    "execution": {
     "iopub.execute_input": "2021-12-21T13:47:38.650317Z",
     "iopub.status.busy": "2021-12-21T13:47:38.650006Z",
     "iopub.status.idle": "2021-12-21T13:47:38.657047Z",
     "shell.execute_reply": "2021-12-21T13:47:38.656445Z",
     "shell.execute_reply.started": "2021-12-21T13:47:38.650279Z"
    }
   },
   "outputs": [],
   "source": [
    "round(np.mean(score)*100, 2)"
   ]
  },
  {
   "cell_type": "code",
   "execution_count": 126,
   "metadata": {
    "execution": {
     "iopub.execute_input": "2021-12-21T13:47:38.658426Z",
     "iopub.status.busy": "2021-12-21T13:47:38.657974Z",
     "iopub.status.idle": "2021-12-21T13:47:38.726081Z",
     "shell.execute_reply": "2021-12-21T13:47:38.725223Z",
     "shell.execute_reply.started": "2021-12-21T13:47:38.658375Z"
    }
   },
   "outputs": [],
   "source": [
    "clf = DecisionTreeClassifier()\n",
    "scoring = 'accuracy'\n",
    "score = cross_val_score(clf, train_data, target, cv=k_fold, n_jobs=1, scoring=scoring)\n",
    "print(score)"
   ]
  },
  {
   "cell_type": "code",
   "execution_count": 127,
   "metadata": {
    "execution": {
     "iopub.execute_input": "2021-12-21T13:47:38.728225Z",
     "iopub.status.busy": "2021-12-21T13:47:38.727565Z",
     "iopub.status.idle": "2021-12-21T13:47:38.734948Z",
     "shell.execute_reply": "2021-12-21T13:47:38.733928Z",
     "shell.execute_reply.started": "2021-12-21T13:47:38.728180Z"
    }
   },
   "outputs": [],
   "source": [
    "round(np.mean(score)*100, 2)"
   ]
  },
  {
   "cell_type": "code",
   "execution_count": null,
   "metadata": {
    "execution": {
     "iopub.execute_input": "2021-12-21T13:47:38.736848Z",
     "iopub.status.busy": "2021-12-21T13:47:38.736246Z"
    }
   },
   "outputs": [],
   "source": [
    "clf = RandomForestClassifier(n_estimators=9)\n",
    "scoring = 'accuracy'\n",
    "score = cross_val_score(clf, train_data, target, cv=k_fold, n_jobs=1, scoring=scoring)\n",
    "print(score)"
   ]
  },
  {
   "cell_type": "code",
   "execution_count": null,
   "metadata": {},
   "outputs": [],
   "source": [
    "round(np.mean(score)*100, 2)"
   ]
  },
  {
   "cell_type": "code",
   "execution_count": null,
   "metadata": {},
   "outputs": [],
   "source": [
    "clf = GaussianNB()\n",
    "scoring = 'accuracy'\n",
    "score = cross_val_score(clf, train_data, target, cv=k_fold, n_jobs=1, scoring=scoring)\n",
    "print(score)"
   ]
  },
  {
   "cell_type": "code",
   "execution_count": null,
   "metadata": {},
   "outputs": [],
   "source": [
    "round(np.mean(score)*100, 2)"
   ]
  },
  {
   "cell_type": "code",
   "execution_count": null,
   "metadata": {},
   "outputs": [],
   "source": [
    "clf = SVC()\n",
    "scoring = 'accuracy'\n",
    "score = cross_val_score(clf, train_data, target, cv=k_fold, n_jobs=1, scoring=scoring)\n",
    "print(score)"
   ]
  },
  {
   "cell_type": "code",
   "execution_count": null,
   "metadata": {},
   "outputs": [],
   "source": [
    "round(np.mean(score)*100,2)"
   ]
  },
  {
   "cell_type": "code",
   "execution_count": null,
   "metadata": {},
   "outputs": [],
   "source": [
    "clf = KNeighborsClassifier(n_neighbors = 16)\n",
    "clf.fit(train_data, target)\n",
    "\n",
    "test_data = test.drop(\"PassengerId\", axis=1).copy()\n",
    "prediction = clf.predict(test_data)"
   ]
  },
  {
   "cell_type": "code",
   "execution_count": null,
   "metadata": {},
   "outputs": [],
   "source": [
    "submission = pd.DataFrame({\n",
    "        \"PassengerId\": test[\"PassengerId\"],\n",
    "        \"Survived\": prediction\n",
    "    })\n",
    "\n",
    "submission.to_csv('submission.csv', index=False)"
   ]
  },
  {
   "cell_type": "code",
   "execution_count": null,
   "metadata": {},
   "outputs": [],
   "source": [
    "submission = pd.read_csv('submission.csv')\n",
    "submission.head()"
   ]
  },
  {
   "cell_type": "code",
   "execution_count": null,
   "metadata": {},
   "outputs": [],
   "source": []
  },
  {
   "cell_type": "code",
   "execution_count": null,
   "metadata": {},
   "outputs": [],
   "source": []
  }
 ],
 "metadata": {
  "kernelspec": {
   "display_name": "Python 3",
   "language": "python",
   "name": "python3"
  },
  "language_info": {
   "codemirror_mode": {
    "name": "ipython",
    "version": 3
   },
   "file_extension": ".py",
   "mimetype": "text/x-python",
   "name": "python",
   "nbconvert_exporter": "python",
   "pygments_lexer": "ipython3",
   "version": "3.8.8"
  }
 },
 "nbformat": 4,
 "nbformat_minor": 4
}
