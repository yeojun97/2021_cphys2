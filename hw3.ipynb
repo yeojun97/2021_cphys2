{
 "cells": [
  {
   "cell_type": "markdown",
   "id": "31dd8ec5",
   "metadata": {},
   "source": [
    "## OR GATE"
   ]
  },
  {
   "cell_type": "code",
   "execution_count": 1,
   "id": "493cb8dd",
   "metadata": {},
   "outputs": [],
   "source": [
    "def OR(x1, x2):\n",
    "    w1 = 0.6\n",
    "    w2 = 0.6\n",
    "    b = -0.5\n",
    "    result = x1*w1 + x2*w2 + b\n",
    "    if result <= 0:\n",
    "        return 0\n",
    "    else:\n",
    "        return 1"
   ]
  },
  {
   "cell_type": "code",
   "execution_count": 2,
   "id": "94ac0c10",
   "metadata": {},
   "outputs": [
    {
     "data": {
      "text/plain": [
       "(0, 1, 1, 1)"
      ]
     },
     "execution_count": 2,
     "metadata": {},
     "output_type": "execute_result"
    }
   ],
   "source": [
    "OR(0, 0), OR(0, 1), OR(1, 0), OR(1, 1)"
   ]
  },
  {
   "cell_type": "markdown",
   "id": "d9c1cde3",
   "metadata": {},
   "source": [
    "## Iris Perceptron"
   ]
  },
  {
   "cell_type": "code",
   "execution_count": 3,
   "id": "5ee7cbc8",
   "metadata": {},
   "outputs": [
    {
     "name": "stdout",
     "output_type": "stream",
     "text": [
      "[-1.0676000000000008, 0.7230999999999671, 0.5352000000000013, 1.8598000000000325] 0.8159999999999997\n"
     ]
    }
   ],
   "source": [
    "import numpy as np\n",
    "import matplotlib.pyplot as plt\n",
    "from sklearn import datasets\n",
    "\n",
    "\n",
    "iris = datasets.load_iris()  # 분꽃\n",
    "iris.target_names  # 3종류의 분꽃 분류하기\n",
    "iris.feature_names  # features\n",
    "\n",
    "X = iris.data  # input data # the number of input nodes = 4\n",
    "t = iris.target_names  # setosa = 0, not setosa = 1\n",
    "y = np.where(iris.target > 0, 1, 0)  # 0(setosa) 과 1(setosa 외) 로 분류\n",
    "\n",
    "\n",
    "def perc(x):\n",
    "    f = np.dot(w, x)+b\n",
    "    if f >= 0:\n",
    "        y = 1\n",
    "    else:\n",
    "        y = 0\n",
    "    return y\n",
    "\n",
    "w, b = [-1, 2, -1.3, 1.2], 1  # 초기조건\n",
    "eta = 0.001\n",
    "\n",
    "for n in range(1000):\n",
    "    # error_sum = 0\n",
    "    for i in range(150):\n",
    "        error = y[i] - perc(X[i])\n",
    "        # error_sum = error_sum + abs(error)\n",
    "\n",
    "        w[0] = w[0] + eta * error * X[i][0]\n",
    "        w[1] = w[1] + eta * error * X[i][1]\n",
    "        w[2] = w[2] + eta * error * X[i][2]\n",
    "        w[3] = w[3] + eta * error * X[i][3]\n",
    "        b = b + eta * error\n",
    "\n",
    "    # if(error_sum==0):\n",
    "    #   break\n",
    "\n",
    "\n",
    "print(w, b)\n",
    "# print('000000')\n",
    "# print(perc(X[0]), perc(X[1]), perc(X[2]), perc(X[3]))"
   ]
  },
  {
   "cell_type": "code",
   "execution_count": 4,
   "id": "4e346a0a",
   "metadata": {},
   "outputs": [],
   "source": [
    "t=[]\n",
    "for i in range(150):\n",
    "    t.append(perc(X[i]))"
   ]
  },
  {
   "cell_type": "code",
   "execution_count": 5,
   "id": "c12cbb15",
   "metadata": {},
   "outputs": [
    {
     "name": "stdout",
     "output_type": "stream",
     "text": [
      "[0 0 0 0 0 0 0 0 0 0 0 0 0 0 0 0 0 0 0 0 0 0 0 0 0 0 0 0 0 0 0 0 0 0 0 0 0\n",
      " 0 0 0 0 0 0 0 0 0 0 0 0 0 1 1 1 1 1 1 1 1 1 1 1 1 1 1 1 1 1 1 1 1 1 1 1 1\n",
      " 1 1 1 1 1 1 1 1 1 1 1 1 1 1 1 1 1 1 1 1 1 1 1 1 1 1 1 1 1 1 1 1 1 1 1 1 1\n",
      " 1 1 1 1 1 1 1 1 1 1 1 1 1 1 1 1 1 1 1 1 1 1 1 1 1 1 1 1 1 1 1 1 1 1 1 1 1\n",
      " 1 1]\n"
     ]
    }
   ],
   "source": [
    "print(np.array(t))"
   ]
  },
  {
   "cell_type": "code",
   "execution_count": 6,
   "id": "a9c9b580",
   "metadata": {},
   "outputs": [
    {
     "name": "stdout",
     "output_type": "stream",
     "text": [
      "[0 0 0 0 0 0 0 0 0 0 0 0 0 0 0 0 0 0 0 0 0 0 0 0 0 0 0 0 0 0 0 0 0 0 0 0 0\n",
      " 0 0 0 0 0 0 0 0 0 0 0 0 0 1 1 1 1 1 1 1 1 1 1 1 1 1 1 1 1 1 1 1 1 1 1 1 1\n",
      " 1 1 1 1 1 1 1 1 1 1 1 1 1 1 1 1 1 1 1 1 1 1 1 1 1 1 1 1 1 1 1 1 1 1 1 1 1\n",
      " 1 1 1 1 1 1 1 1 1 1 1 1 1 1 1 1 1 1 1 1 1 1 1 1 1 1 1 1 1 1 1 1 1 1 1 1 1\n",
      " 1 1]\n"
     ]
    }
   ],
   "source": [
    "print(np.array(y))"
   ]
  },
  {
   "cell_type": "code",
   "execution_count": null,
   "id": "48dd4d45",
   "metadata": {},
   "outputs": [],
   "source": []
  }
 ],
 "metadata": {
  "kernelspec": {
   "display_name": "Python 3",
   "language": "python",
   "name": "python3"
  },
  "language_info": {
   "codemirror_mode": {
    "name": "ipython",
    "version": 3
   },
   "file_extension": ".py",
   "mimetype": "text/x-python",
   "name": "python",
   "nbconvert_exporter": "python",
   "pygments_lexer": "ipython3",
   "version": "3.8.8"
  }
 },
 "nbformat": 4,
 "nbformat_minor": 5
}
