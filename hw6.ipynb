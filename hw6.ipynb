{
 "cells": [
  {
   "cell_type": "code",
   "execution_count": 1,
   "id": "4290b253",
   "metadata": {},
   "outputs": [],
   "source": [
    "import numpy as np\n",
    "import matplotlib.pyplot as plt\n",
    "import torch\n",
    "import torchvision\n",
    "from torchvision.transforms import ToTensor\n",
    "\n",
    "train_data = torchvision.datasets.FashionMNIST(\n",
    "    root=\"data\",\n",
    "    train=True,\n",
    "    download=True,\n",
    "    transform=ToTensor()\n",
    ")\n",
    "\n",
    "test_data = torchvision.datasets.FashionMNIST(\n",
    "    root=\"data\",\n",
    "    train=False,\n",
    "    download=True,\n",
    "    transform=ToTensor()\n",
    ")"
   ]
  },
  {
   "cell_type": "code",
   "execution_count": 2,
   "id": "e5b0590f",
   "metadata": {},
   "outputs": [
    {
     "data": {
      "text/plain": [
       "Dataset FashionMNIST\n",
       "    Number of datapoints: 10000\n",
       "    Root location: data\n",
       "    Split: Test\n",
       "    StandardTransform\n",
       "Transform: ToTensor()"
      ]
     },
     "execution_count": 2,
     "metadata": {},
     "output_type": "execute_result"
    }
   ],
   "source": [
    "test_data"
   ]
  },
  {
   "cell_type": "code",
   "execution_count": 3,
   "id": "86c92b21",
   "metadata": {},
   "outputs": [],
   "source": [
    "batch_size = 100\n",
    "train_loader = torch.utils.data.DataLoader(\n",
    "    dataset = train_data,\n",
    "    batch_size = batch_size,\n",
    "    shuffle = True\n",
    ")\n",
    "test_loader = torch.utils.data.DataLoader(\n",
    "    dataset = test_data,\n",
    "    batch_size = batch_size,\n",
    "    shuffle = False\n",
    ")"
   ]
  },
  {
   "cell_type": "code",
   "execution_count": 4,
   "id": "dea38fe9",
   "metadata": {},
   "outputs": [],
   "source": [
    "import torch.nn as nn\n",
    "class cnn(nn.Module): \n",
    "    def __init__(self): \n",
    "        super(cnn, self).__init__() \n",
    "        self.conv1 = nn.Conv2d(in_channels=1, out_channels=13, kernel_size=2, padding=1) \n",
    "        self.conv2 = nn.Conv2d(13, 26, 2, padding=1)\n",
    "        self.fc1 = nn.Linear(7*7*26, 128)\n",
    "        self.fc2 = nn.Linear(128,10)\n",
    "\n",
    "    def forward(self, x):\n",
    "        # convoultion # input (28 * 28 * 1)\n",
    "        x = self.conv1(x) # (28 * 28 * 13)\n",
    "        x = nn.functional.relu(x)\n",
    "        x = nn.functional.max_pool2d(x, 2) # (14 * 14 * 13)\n",
    "        x = self.conv2(x) # (14 * 14 * 26)\n",
    "        x = nn.functional.relu(x)\n",
    "        x = nn.functional.max_pool2d(x, 2) # (7 * 7 * 26)\n",
    "        \n",
    "        # fully connected\n",
    "        x = torch.flatten(x,1)\n",
    "        x = self.fc1(x)\n",
    "        x = nn.functional.relu(x)\n",
    "        x = self.fc2(x)\n",
    "        x = nn.functional.softmax(x,dim=1)\n",
    "        return x"
   ]
  },
  {
   "cell_type": "code",
   "execution_count": 5,
   "id": "20b45fb0",
   "metadata": {},
   "outputs": [],
   "source": [
    "model = cnn()\n",
    "\n",
    "# loss and optimizer\n",
    "learning_rate = 0.005\n",
    "criterion = nn.CrossEntropyLoss()\n",
    "optimizer = torch.optim.Adam(model.parameters(),lr=learning_rate)"
   ]
  },
  {
   "cell_type": "code",
   "execution_count": 6,
   "id": "0863b5c0",
   "metadata": {},
   "outputs": [],
   "source": [
    "class Print(nn.Module):\n",
    "    def forward(self, x):\n",
    "        print(x.size())\n",
    "        return x"
   ]
  },
  {
   "cell_type": "code",
   "execution_count": 7,
   "id": "24dd305c",
   "metadata": {},
   "outputs": [
    {
     "data": {
      "text/plain": [
       "cnn(\n",
       "  (conv1): Conv2d(1, 13, kernel_size=(2, 2), stride=(1, 1), padding=(1, 1))\n",
       "  (conv2): Conv2d(13, 26, kernel_size=(2, 2), stride=(1, 1), padding=(1, 1))\n",
       "  (fc1): Linear(in_features=1274, out_features=128, bias=True)\n",
       "  (fc2): Linear(in_features=128, out_features=10, bias=True)\n",
       ")"
      ]
     },
     "execution_count": 7,
     "metadata": {},
     "output_type": "execute_result"
    }
   ],
   "source": [
    "model"
   ]
  },
  {
   "cell_type": "code",
   "execution_count": 8,
   "id": "af7c3c9a",
   "metadata": {},
   "outputs": [],
   "source": [
    "# training\n",
    "def test(model, criterion, optimizer, data):\n",
    "    model.train() # training\n",
    "    for X,y in data:\n",
    "        y_pred = model(X)\n",
    "        loss = criterion(y_pred,y)\n",
    "        \n",
    "        optimizer.zero_grad() # zero_grad(): 미분값 초기화\n",
    "        loss.backward() # backpropagation\n",
    "        optimizer.step() # update weights and biases"
   ]
  },
  {
   "cell_type": "code",
   "execution_count": 9,
   "id": "6ad72562",
   "metadata": {},
   "outputs": [],
   "source": [
    "test(model, criterion, optimizer, test_loader)"
   ]
  },
  {
   "cell_type": "code",
   "execution_count": 10,
   "id": "7166ba20",
   "metadata": {},
   "outputs": [],
   "source": [
    "def evaluation(model, criterion, optimizer, data):\n",
    "    model.eval() #evaluation\n",
    "    test_loss = 0\n",
    "    accuracy = 0\n",
    "\n",
    "    with torch.no_grad(): # no update\n",
    "        for X, y in data:\n",
    "            y_pred = model(X)\n",
    "            test_loss += criterion(y_pred, y)\n",
    "            \n",
    "            prediction = y_pred.max(1)[1] # max indices\n",
    "            corrects = (prediction == y)\n",
    "            accuracy += corrects.sum().float() / float( y.size(0) )\n",
    "    return test_loss, accuracy     "
   ]
  },
  {
   "cell_type": "code",
   "execution_count": 11,
   "id": "df0244b7",
   "metadata": {
    "scrolled": false
   },
   "outputs": [
    {
     "name": "stdout",
     "output_type": "stream",
     "text": [
      "0 loss= 169.92276000976562 accu= 76.260009765625\n",
      "3 loss= 164.32135009765625 accu= 81.72999572753906\n",
      "6 loss= 163.51710510253906 accu= 82.58998107910156\n",
      "9 loss= 160.77920532226562 accu= 85.29000854492188\n",
      "12 loss= 160.65261840820312 accu= 85.52999877929688\n",
      "15 loss= 158.4467315673828 accu= 87.68000030517578\n",
      "18 loss= 158.660888671875 accu= 87.45999145507812\n",
      "21 loss= 157.03921508789062 accu= 89.06000518798828\n",
      "24 loss= 157.03619384765625 accu= 89.0899887084961\n"
     ]
    }
   ],
   "source": [
    "nums_epoch = 27\n",
    "for epoch in range(nums_epoch):\n",
    "    test(model, criterion, optimizer, test_loader)\n",
    "    \n",
    "    if(epoch%3==0):\n",
    "        E, accu = evaluation(model, criterion, optimizer, test_loader)\n",
    "        print(epoch, \"loss=\", E.item(), \"accu=\", accu.item())"
   ]
  },
  {
   "cell_type": "markdown",
   "id": "337dd164",
   "metadata": {},
   "source": [
    "## 감상문"
   ]
  },
  {
   "cell_type": "code",
   "execution_count": null,
   "id": "a3f577d2",
   "metadata": {},
   "outputs": [],
   "source": [
    "#딥러닝을 대하는 태도에 많은 영감을 받았다. 본인은 딥러닝을 학문으로 생각하여 기존의 방법을 정석이라 맹신하였고 \n",
    "#정석에 몇 가지 기능이나 방법을 개선하는 것이 딥러닝의 발전의 능사라고 생각했기 때문이다.  \n",
    "#허나 해당 사례를 보고 딥러닝을 학문이 아닌 공학 작품처럼 취급하는 것이 어쩌면 더 옳다는 느낌을 받았다.\n",
    "#문제 해결에 어떤 도구가 필요하다면 이는 기존 도구들을 연계시켜 새로운 기능을 시키는게 아닌, 문제 해결에 필요한 도구를 만드는 것이\n",
    "#올바른 방법이기 때문이다. 이런 생각은 50년간 쌓인 학계 노하우가 새로운 알고리즘으로 갱신되는 \n",
    "#알파폴드 시리즈에 크게 뒤쳐졌단 사실에서 강하게 느껴졌었다 \n",
    "#본인은 이 글의 화자가 마지막에 언급한 \"나의 영역을 고수하는 것이 나를 그 안 가두어 놓는 시대\" 에서 대표적인 잘못된 예라고 \n",
    "#할 수 있을 정도로 본인을 가두어 놓는 사고 방식을 하고 있었으나 해당 사례를 통해 본인의 한계를 극복하는 것에 큰 도움이 되었다. "
   ]
  }
 ],
 "metadata": {
  "kernelspec": {
   "display_name": "Python 3",
   "language": "python",
   "name": "python3"
  },
  "language_info": {
   "codemirror_mode": {
    "name": "ipython",
    "version": 3
   },
   "file_extension": ".py",
   "mimetype": "text/x-python",
   "name": "python",
   "nbconvert_exporter": "python",
   "pygments_lexer": "ipython3",
   "version": "3.8.8"
  }
 },
 "nbformat": 4,
 "nbformat_minor": 5
}
