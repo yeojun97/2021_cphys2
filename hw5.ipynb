{
 "cells": [
  {
   "cell_type": "code",
   "execution_count": 1,
   "id": "484e6149",
   "metadata": {},
   "outputs": [],
   "source": [
    "import numpy as np\n",
    "import matplotlib.pyplot as plt\n",
    "import torch\n",
    "import torchvision"
   ]
  },
  {
   "cell_type": "code",
   "execution_count": 2,
   "id": "02c69ef0",
   "metadata": {},
   "outputs": [],
   "source": [
    "train_data = torchvision.datasets.MNIST(\n",
    "    root = 'data',\n",
    "    train = True,                         \n",
    "    transform = torchvision.transforms.ToTensor(), \n",
    "    download = True,            \n",
    ")\n",
    "test_data = torchvision.datasets.MNIST(\n",
    "    root = 'data', \n",
    "    train = False, \n",
    "    transform = torchvision.transforms.ToTensor()\n",
    ")"
   ]
  },
  {
   "cell_type": "code",
   "execution_count": 3,
   "id": "285a8ddc",
   "metadata": {},
   "outputs": [
    {
     "data": {
      "text/plain": [
       "Dataset MNIST\n",
       "    Number of datapoints: 60000\n",
       "    Root location: data\n",
       "    Split: Train\n",
       "    StandardTransform\n",
       "Transform: ToTensor()"
      ]
     },
     "execution_count": 3,
     "metadata": {},
     "output_type": "execute_result"
    }
   ],
   "source": [
    "train_data"
   ]
  },
  {
   "cell_type": "code",
   "execution_count": 4,
   "id": "6f43aaf5",
   "metadata": {},
   "outputs": [
    {
     "data": {
      "text/plain": [
       "Dataset MNIST\n",
       "    Number of datapoints: 10000\n",
       "    Root location: data\n",
       "    Split: Test\n",
       "    StandardTransform\n",
       "Transform: ToTensor()"
      ]
     },
     "execution_count": 4,
     "metadata": {},
     "output_type": "execute_result"
    }
   ],
   "source": [
    "test_data"
   ]
  },
  {
   "cell_type": "code",
   "execution_count": 64,
   "id": "c8eacf3f",
   "metadata": {},
   "outputs": [],
   "source": [
    "X = torch.flatten(test_data.data,start_dim=1).float()\n",
    "y = test_data.targets"
   ]
  },
  {
   "cell_type": "code",
   "execution_count": 73,
   "id": "5a15a42d",
   "metadata": {},
   "outputs": [],
   "source": [
    "dimension_input = 784\n",
    "dimension_h = [128, 64]\n",
    "dimension_output = 10\n",
    "model = torch.nn.Sequential(\n",
    "    torch.nn.Linear(784,dimension_h[0]),\n",
    "    torch.nn.ReLU(),\n",
    "    \n",
    "    torch.nn.Linear(dimension_h[0],dimension_h[1]),\n",
    "    torch.nn.ReLU(),\n",
    "    \n",
    "    torch.nn.Linear(dimension_h[1],10),\n",
    "    torch.nn.Softmax(dim=1)\n",
    ")"
   ]
  },
  {
   "cell_type": "code",
   "execution_count": 74,
   "id": "2903c36d",
   "metadata": {},
   "outputs": [],
   "source": [
    "learning_rate = 0.001\n",
    "critterion = torch.nn.CrossEntropyLoss()\n",
    "optimizer = torch.optim.Adam(model.parameters(), lr = learning_rate)"
   ]
  },
  {
   "cell_type": "code",
   "execution_count": 75,
   "id": "879d1ffe",
   "metadata": {},
   "outputs": [
    {
     "name": "stdout",
     "output_type": "stream",
     "text": [
      "0 2.315244436264038\n",
      "1000 1.4692717790603638\n",
      "2000 1.467957854270935\n"
     ]
    }
   ],
   "source": [
    "for epoch in range(3000):\n",
    "    y_pred = model(X)\n",
    "    loss = critterion(y_pred, y)\n",
    "    optimizer.zero_grad()\n",
    "    loss.backward()\n",
    "    optimizer.step()\n",
    "    if(epoch%1000==0):\n",
    "        print(epoch, loss.item())"
   ]
  },
  {
   "cell_type": "code",
   "execution_count": 76,
   "id": "3149c2e3",
   "metadata": {},
   "outputs": [
    {
     "data": {
      "text/plain": [
       "tensor([[5.0561e-20, 5.7230e-36, 1.8654e-23,  ..., 1.0000e+00, 1.4783e-25,\n",
       "         4.6638e-26],\n",
       "        [9.1255e-29, 9.3986e-27, 1.0000e+00,  ..., 0.0000e+00, 2.2743e-30,\n",
       "         0.0000e+00],\n",
       "        [4.5725e-22, 1.0000e+00, 3.8861e-18,  ..., 3.9714e-13, 7.2150e-26,\n",
       "         2.3256e-21],\n",
       "        ...,\n",
       "        [8.9419e-24, 2.3864e-23, 6.9509e-28,  ..., 7.0779e-15, 1.9056e-18,\n",
       "         7.6785e-14],\n",
       "        [2.5856e-39, 6.6598e-38, 0.0000e+00,  ..., 1.0042e-36, 1.1476e-36,\n",
       "         2.8026e-45],\n",
       "        [4.0806e-32, 0.0000e+00, 0.0000e+00,  ..., 2.2369e-31, 1.0411e-37,\n",
       "         0.0000e+00]], grad_fn=<SoftmaxBackward0>)"
      ]
     },
     "execution_count": 76,
     "metadata": {},
     "output_type": "execute_result"
    }
   ],
   "source": [
    "model(X)"
   ]
  },
  {
   "cell_type": "code",
   "execution_count": 77,
   "id": "c11d0cfb",
   "metadata": {},
   "outputs": [
    {
     "name": "stdout",
     "output_type": "stream",
     "text": [
      "tensor([7, 2, 1,  ..., 4, 5, 6])\n"
     ]
    }
   ],
   "source": [
    "max_of_model = y_pred.max(1)[1]\n",
    "print(max_of_model)"
   ]
  },
  {
   "cell_type": "code",
   "execution_count": 78,
   "id": "994bae7b",
   "metadata": {
    "scrolled": true
   },
   "outputs": [
    {
     "data": {
      "text/plain": [
       "tensor([7, 2, 1,  ..., 4, 5, 6])"
      ]
     },
     "execution_count": 78,
     "metadata": {},
     "output_type": "execute_result"
    }
   ],
   "source": [
    "test_data.targets"
   ]
  },
  {
   "cell_type": "code",
   "execution_count": 79,
   "id": "ba46cf79",
   "metadata": {},
   "outputs": [
    {
     "data": {
      "text/plain": [
       "tensor(0.9932)"
      ]
     },
     "execution_count": 79,
     "metadata": {},
     "output_type": "execute_result"
    }
   ],
   "source": [
    "corrects = ( max_of_model == y)\n",
    "accuracy = corrects.sum().float() / float( y.size(0) )\n",
    "accuracy"
   ]
  }
 ],
 "metadata": {
  "kernelspec": {
   "display_name": "Python 3",
   "language": "python",
   "name": "python3"
  },
  "language_info": {
   "codemirror_mode": {
    "name": "ipython",
    "version": 3
   },
   "file_extension": ".py",
   "mimetype": "text/x-python",
   "name": "python",
   "nbconvert_exporter": "python",
   "pygments_lexer": "ipython3",
   "version": "3.8.8"
  }
 },
 "nbformat": 4,
 "nbformat_minor": 5
}
